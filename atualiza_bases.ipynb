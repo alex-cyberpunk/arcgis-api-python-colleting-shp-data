{
 "cells": [
  {
   "attachments": {},
   "cell_type": "markdown",
   "id": "3bc6cf59",
   "metadata": {
    "papermill": {
     "duration": 0.027309,
     "end_time": "2023-05-06T02:00:42.285753",
     "exception": false,
     "start_time": "2023-05-06T02:00:42.258444",
     "status": "completed"
    },
    "tags": []
   },
   "source": [
    "##### Conecta no arcgis"
   ]
  },
  {
   "cell_type": "code",
   "execution_count": 20,
   "id": "cd031cdc",
   "metadata": {
    "execution": {
     "iopub.execute_input": "2023-05-06T02:00:42.355445Z",
     "iopub.status.busy": "2023-05-06T02:00:42.354637Z",
     "iopub.status.idle": "2023-05-06T02:00:43.678044Z",
     "shell.execute_reply": "2023-05-06T02:00:43.678393Z"
    },
    "papermill": {
     "duration": 1.353826,
     "end_time": "2023-05-06T02:00:43.678642",
     "exception": false,
     "start_time": "2023-05-06T02:00:42.324816",
     "status": "completed"
    },
    "scrolled": true,
    "tags": [
     "gis"
    ]
   },
   "outputs": [
    {
     "name": "stderr",
     "output_type": "stream",
     "text": [
      "/opt/conda/lib/python3.9/site-packages/arcgis/gis/__init__.py:597: UserWarning: You are logged on as Creator_GIS_EER with an administrator role, proceed with caution.\n",
      "  warnings.warn(\n"
     ]
    }
   ],
   "source": [
    "from arcgis.gis import GIS\n",
    "gis = GIS(\"home\")"
   ]
  },
  {
   "attachments": {},
   "cell_type": "markdown",
   "id": "4ec268e6",
   "metadata": {
    "papermill": {
     "duration": 0.023213,
     "end_time": "2023-05-06T02:00:43.726024",
     "exception": false,
     "start_time": "2023-05-06T02:00:43.702811",
     "status": "completed"
    },
    "tags": []
   },
   "source": [
    "# Atualizacao de Bases atraves de Shapefiles enviados por um formulario no sharepoint\n"
   ]
  },
  {
   "attachments": {},
   "cell_type": "markdown",
   "id": "fcabb66d",
   "metadata": {},
   "source": [
    "# 01-Entradas"
   ]
  },
  {
   "attachments": {},
   "cell_type": "markdown",
   "id": "491a50b8",
   "metadata": {
    "papermill": {
     "duration": 0.022966,
     "end_time": "2023-05-06T02:00:43.774367",
     "exception": false,
     "start_time": "2023-05-06T02:00:43.751401",
     "status": "completed"
    },
    "tags": []
   },
   "source": [
    "###### Conecta no Sharepoint"
   ]
  },
  {
   "attachments": {},
   "cell_type": "markdown",
   "id": "a2bed699",
   "metadata": {
    "papermill": {
     "duration": 0.022784,
     "end_time": "2023-05-06T02:00:43.820252",
     "exception": false,
     "start_time": "2023-05-06T02:00:43.797468",
     "status": "completed"
    },
    "tags": []
   },
   "source": [
    "########## O login e senha do sharepoint sao segredos pessoais do funcionario , portanto o creator ou qualquer administrador do arcgis nao pode deixar essas informacoes direto no codigo , ja que esse notebook pode ser compartilhado . Dessa forma a solucao e criar um csv privado para o usuario que contem o login senha do usuario. Ao mudar de Creator , nao esquecer de apagar seu login e senha do csv"
   ]
  },
  {
   "cell_type": "code",
   "execution_count": 2,
   "id": "1ef8f9da",
   "metadata": {
    "execution": {
     "iopub.execute_input": "2023-05-06T02:00:43.873227Z",
     "iopub.status.busy": "2023-05-06T02:00:43.872771Z",
     "iopub.status.idle": "2023-05-06T02:00:44.049204Z",
     "shell.execute_reply": "2023-05-06T02:00:44.048816Z"
    },
    "papermill": {
     "duration": 0.206022,
     "end_time": "2023-05-06T02:00:44.049321",
     "exception": false,
     "start_time": "2023-05-06T02:00:43.843299",
     "status": "completed"
    },
    "tags": []
   },
   "outputs": [],
   "source": [
    "import csv\n",
    "SECRET_CSV_ITEM_ID = 'item_id'\n",
    "def get_secrets(gis=gis,\n",
    "                secret_csv_item_id=SECRET_CSV_ITEM_ID):\n",
    "    \"\"\"Returns the secrets.csv file as a dict of secret_key : secret_value\"\"\"\n",
    "    item = gis.content.get(secret_csv_item_id)\n",
    "    with open(item.download(), 'r') as local_item_file:\n",
    "        reader = csv.DictReader(local_item_file)\n",
    "        return {rows['secret_key']: rows['secret_value'] for rows in reader}\n",
    "secrets = get_secrets()"
   ]
  },
  {
   "attachments": {},
   "cell_type": "markdown",
   "id": "35583fb0",
   "metadata": {
    "papermill": {
     "duration": 0.022847,
     "end_time": "2023-05-06T02:00:44.095517",
     "exception": false,
     "start_time": "2023-05-06T02:00:44.072670",
     "status": "completed"
    },
    "tags": []
   },
   "source": [
    "#### Ler os arquivos da lista do sharepoint e salva num diretorio local"
   ]
  },
  {
   "attachments": {},
   "cell_type": "markdown",
   "id": "26f0c17b",
   "metadata": {
    "papermill": {
     "duration": 0.023431,
     "end_time": "2023-05-06T02:00:44.143264",
     "exception": false,
     "start_time": "2023-05-06T02:00:44.119833",
     "status": "completed"
    },
    "tags": []
   },
   "source": [
    "######## Com seu usuario e senha voce pode acessar a lista  do sharepoint onde esta os pedidos do formulario . Esse codigo baixa o zip extraido depois pega todos os arquivos dentro de subpastas e coloca no diretorio principal , apaga as subpastas e deixa os shps numa pasta temp. Ai ocorrera a leitura de shp posteriormente\n",
    "E tambem o codigo verifica \"Erros crassos de arquivo\" por exemplo se o usuario envio um arquivo zipado com todos os arquivos de shapefile dentro e se esses arquivos shapefiles estao com os campos corretos. Muitas vezes campos com acentos ou caracteres comuns em ingles mas nao em pt-br sao lidos erronemeante ficando substituido pelo caracter '?' , que significa 'nao identificado' e causa problema de leitura do shapefile pela library shapefile , dessa forma e necessario que os usuarios mandem shapefiles com campos sem acentos (ou seja shapefiles criados com os moldes que eu preparei previamente)."
   ]
  },
  {
   "attachments": {},
   "cell_type": "markdown",
   "id": "9b655f8f",
   "metadata": {},
   "source": [
    "Tipos de erros:\n",
    "    Erro1: erros que comprometem o pedido inteiro ( erros de arquivo)\n",
    "    Erro2: erros que comprometem o pedido parcialmente (erros de linhas de dataframe)\n",
    "\n",
    "Toda vez que um erro novo for identificado , quando um usuario tiver um comportamento inesperado no envio , e necessario criar uma categoria ou agrega-la aos tipo de erros . Por exemplo , nesse moemnto foi dividio entre erros de arquivo e erros de dataframe . Mas pode haver outros , desta forma mantenha o rastreio de erros atualizado."
   ]
  },
  {
   "cell_type": "code",
   "execution_count": null,
   "id": "b49ef63f",
   "metadata": {},
   "outputs": [],
   "source": [
    "import pandas as pd\n",
    "from arcgis.geometry import Polygon, Geometry, Point, Polyline\n",
    "\n",
    "def sdf_from_shp(shapefile_path):\n",
    "    sdf = pd.DataFrame.spatial.from_featureclass(shapefile_path,encoding='iso-8859-1')\n",
    "    return sdf"
   ]
  },
  {
   "attachments": {},
   "cell_type": "markdown",
   "id": "f29def5d",
   "metadata": {
    "papermill": {
     "duration": 0.022925,
     "end_time": "2023-05-06T02:00:44.188833",
     "exception": false,
     "start_time": "2023-05-06T02:00:44.165908",
     "status": "completed"
    },
    "tags": []
   },
   "source": [
    "####### Como o kernel e o python constantemente nao conversam ( as vezes o kernel executa antes do python)  eu instalei os pacotes numa pasta chamada library '/arcgis/library' com o comando :pip install --target=/arcgis/library Office365-REST-Python-Client , isso deve resolver o problema dele nao encontrar os pacotes , ja que o kernel constantemente apaga os packges do diretorio de sites"
   ]
  },
  {
   "attachments": {},
   "cell_type": "markdown",
   "id": "0bb1889e",
   "metadata": {},
   "source": [
    "#### Funcoes de offices 365 de leitura da lista do sharpoint"
   ]
  },
  {
   "cell_type": "code",
   "execution_count": null,
   "id": "d108a61d",
   "metadata": {
    "execution": {
     "iopub.execute_input": "2023-05-06T02:00:44.242376Z",
     "iopub.status.busy": "2023-05-06T02:00:44.241840Z",
     "iopub.status.idle": "2023-05-06T02:00:48.154878Z",
     "shell.execute_reply": "2023-05-06T02:00:48.153918Z"
    },
    "papermill": {
     "duration": 3.943036,
     "end_time": "2023-05-06T02:00:48.155004",
     "exception": false,
     "start_time": "2023-05-06T02:00:44.211968",
     "status": "completed"
    },
    "tags": []
   },
   "outputs": [],
   "source": [
    "import sys\n",
    "sys.path.insert(0, \"/arcgis/home/librarys\")\n",
    "from office365.runtime.auth.authentication_context import AuthenticationContext\n",
    "from office365.runtime.auth.client_credential import ClientCredential\n",
    "from office365.sharepoint.client_context import ClientContext\n",
    "from office365.sharepoint.files.file import File\n",
    "\n",
    "import zipfile\n",
    "import io \n",
    "import tempfile\n",
    "import shapefile\n",
    "#pip install Office365-REST-Python-Client\n",
    "\n",
    "sharepoint_password=secrets[\"alex.matias@pecenergia.com.br\"]\n",
    "sharepoint_base_url = 'https://empresa.sharepoint.com/sites/Fundiario/'\n",
    "sharepoint_user = 'alex.matias@pecenergia.com.br'\n",
    "#autentica no sharepoint e acessa as pastas\n",
    "auth = AuthenticationContext(sharepoint_base_url) \n",
    "auth.acquire_token_for_user(sharepoint_user, sharepoint_password)\n",
    "ctx = ClientContext(sharepoint_base_url, auth)\n",
    "web = ctx.web\n",
    "ctx.load(web)\n",
    "ctx.execute_query()"
   ]
  },
  {
   "cell_type": "code",
   "execution_count": null,
   "id": "81f7aaf7",
   "metadata": {},
   "outputs": [],
   "source": [
    "def sharepoint_lists_fundiario(ctx,nome_lista):\n",
    "        #verifica os itens nao incluidos na base que estao na lista\n",
    "        \"\"\"\n",
    "        itens incluidos tem seu Title modificado para 'Incluido_na_base(editado_power_automate)' quando estao sem erro\n",
    "        Quando estao com algum Erro de formato nao esperado de anexo , ou seja nao e um arquivo .zip com shapefiles dentro\n",
    "        nomea-se \"Erro1\" e \"Erro2\" para erro nos campos do shapefile\n",
    "        \"\"\"\n",
    "        titulos_esperados=['Incluido_na_base(editado_power_automate)','Erro1','Erro2']\n",
    "        #Retorna a lista do sharepoint\n",
    "        sp_site_lists = ctx.web.lists.get_by_title(nome_lista)\n",
    "        all_items = sp_site_lists.items.paged(1000).get().execute_query()\n",
    "        list_items = [item for item in all_items if item.properties[\"Title\"] not in titulos_esperados]\n",
    "        return list_items"
   ]
  },
  {
   "cell_type": "code",
   "execution_count": null,
   "id": "5fac5a94",
   "metadata": {},
   "outputs": [],
   "source": [
    "\n",
    "def download_attachments(ctx, list_item):\n",
    "    # Obter anexos do item da lista\n",
    "    attachments = list_item.attachment_files.get().execute_query()\n",
    "    def erro1(list_item):\n",
    "        list_item.set_property('Title', \"Erro1\")\n",
    "        list_item.update()\n",
    "        ctx.execute_query()\n",
    "        return('Erro1','Erro1')\n",
    "    # Verificar se o título do anexo é um arquivo zip com shapefiles dentro\n",
    "    if len(attachments)==0:\n",
    "        erro1(list_item)\n",
    "    else:\n",
    "        attachment_title = attachments[0].properties[\"FileName\"]\n",
    "        if not attachment_title.endswith(\".zip\"):\n",
    "            erro1(list_item)\n",
    "        else:\n",
    "            # Obter informações do item da lista\n",
    "            projeto = list_item.properties['Projeto']\n",
    "            operacao = list_item.properties['TipodeOperacaonabase']\n",
    "            item_id = list_item.properties[\"Id\"]\n",
    "            creator_id=list_item.properties[\"AuthorId\"]\n",
    "\n",
    "            if(list_item.properties[\"Attachments\"]):\n",
    "                # Baixar cada anexo para o diretório correspondente\n",
    "                for attachment in attachments:\n",
    "                    file_name = f\"{projeto}_{operacao}_{creator_id}_{item_id}.zip\"\n",
    "                    folder_path = f\"/arcgis/home/Nao Incluidos/{operacao}\"\n",
    "                    caminho=os.path.join(folder_path, file_name)\n",
    "\n",
    "                    # Baixa o conteúdo do anexo e o escreve em um arquivo\n",
    "                    with open(caminho, \"wb\") as f:\n",
    "                        content=attachment.download(f).execute_query()\n",
    "                    print(not(verificar_arquivo_shapefile_zip(caminho)))\n",
    "                    if(not(verificar_arquivo_shapefile_zip(caminho))):\n",
    "                        with zipfile.ZipFile(caminho) as zip_ref:    \n",
    "                            zip_ref.extractall('/arcgis/home/Nao Incluidos/temp')    \n",
    "                        cria_zip_legivel(folder_path, file_name)\n",
    "                        print(\"Download de anexo com sucesso\")\n",
    "                    else : print(\"nao e arquivo .zip\")\n",
    "                os.remove(os.path.join(folder_path, file_name[:-4]+'.zip'))        \n",
    "                return (os.path.join(folder_path, file_name[:-4]+'.shp'),operacao)"
   ]
  },
  {
   "attachments": {},
   "cell_type": "markdown",
   "id": "aa5191fd",
   "metadata": {},
   "source": [
    "#### Funcoes que verificam o .zip e colocam os arquivos num formato esperado ( um arquivo zipado com os arquivos .shp dentro)"
   ]
  },
  {
   "cell_type": "code",
   "execution_count": null,
   "id": "0bf8d986",
   "metadata": {
    "execution": {
     "iopub.execute_input": "2023-05-06T02:00:48.216500Z",
     "iopub.status.busy": "2023-05-06T02:00:48.205427Z",
     "iopub.status.idle": "2023-05-06T02:00:54.569635Z",
     "shell.execute_reply": "2023-05-06T02:00:54.569207Z"
    },
    "papermill": {
     "duration": 6.390481,
     "end_time": "2023-05-06T02:00:54.569744",
     "exception": false,
     "start_time": "2023-05-06T02:00:48.179263",
     "status": "completed"
    },
    "scrolled": true,
    "tags": []
   },
   "outputs": [],
   "source": [
    "import pandas as pd\n",
    "def cria_zip_legivel(roots, file_name):\n",
    "    import zipfile\n",
    "    import os\n",
    "    import shutil\n",
    "    # Define o nome do arquivo zip original e do arquivo zip novo\n",
    "    file_name=file_name[:-4]\n",
    "    # Percorre as subpastas da pasta extraída e move os arquivos para a pasta principal\n",
    "    for root, dirs, files in os.walk('/arcgis/home/Nao Incluidos/temp'):\n",
    "        for file in files:\n",
    "            if(not(file.endswith('.zip'))):\n",
    "                os.rename(os.path.join(root, file), os.path.join(root, file_name+file[-4:]))\n",
    "                shutil.move(os.path.join(root, file_name+file[-4:]), os.path.join(roots, file_name+file[-4:]))\n",
    "                \n",
    "    caminho = '/arcgis/home/Nao Incluidos/temp'\n",
    "    for root, dirs, files in os.walk(caminho):\n",
    "            for dir in dirs:\n",
    "                shutil.rmtree(os.path.join(root, dir))\n",
    "def verificar_arquivo_shapefile_zip(nome_arquivo_zip):\n",
    "    import zipfile\n",
    "    # Lista de extensões esperadas\n",
    "    extensoes_esperadas = ['.shp', '.shx', '.dbf']\n",
    "\n",
    "    # Dicionário para contar o número de ocorrências de cada extensão\n",
    "    ocorrencias_extensoes = {extensao: 0 for extensao in extensoes_esperadas}\n",
    "\n",
    "    # Função para verificar se um nome de arquivo corresponde a uma extensão esperada\n",
    "    def verificar_extensao(nome_arquivo):\n",
    "        extensao = nome_arquivo.split('.')[-1].lower()\n",
    "        return extensao in ocorrencias_extensoes\n",
    "\n",
    "    # Função para percorrer todas as pastas e subpastas dentro do arquivo zip\n",
    "    def percorrer_zip(zip, caminho=''):\n",
    "        for nome_arquivo in zip.namelist():\n",
    "            if nome_arquivo.startswith(caminho):\n",
    "                partes_caminho = nome_arquivo.split('/')\n",
    "                if len(partes_caminho) > len(caminho.split('/')) and partes_caminho[len(caminho.split('/'))] != '':\n",
    "                    continue\n",
    "                if '/' in nome_arquivo[len(caminho):]:\n",
    "                    percorrer_zip(zip, nome_arquivo)\n",
    "                elif verificar_extensao(nome_arquivo):\n",
    "                    ocorrencias_extensoes[nome_arquivo.split('.')[-1].lower()] += 1\n",
    "    # Abrir o arquivo zip\n",
    "    with zipfile.ZipFile(nome_arquivo_zip, 'r') as zip:\n",
    "        # Percorrer todas as pastas e subpastas dentro do arquivo zip\n",
    "        percorrer_zip(zip)\n",
    "\n",
    "    # Verificar se cada extensão ocorreu apenas uma vez\n",
    "    for extensao, ocorrencias in ocorrencias_extensoes.items():\n",
    "        if ocorrencias != 1:\n",
    "            return False\n",
    "            print(\"tudo ok\")\n",
    "    return True\n",
    "\n",
    "def error_report(arquivo_zip, tipo):\n",
    "    if(verificar_arquivo_shapefile_zip(arquivo_zip)):\n",
    "        print(\"E um arquivo zip\")\n",
    "        return True \n",
    "    else:return False"
   ]
  },
  {
   "attachments": {},
   "cell_type": "markdown",
   "id": "e3b80183",
   "metadata": {},
   "source": [
    "#### Verifica se o .shp esta no formato correto"
   ]
  },
  {
   "cell_type": "code",
   "execution_count": null,
   "id": "ffe4e449",
   "metadata": {},
   "outputs": [],
   "source": [
    "# CONSERTAR COM OS MOLDES CORRETOS    \n",
    "def verifica_campos_shp(shapefile_path,tipo):\n",
    "    #SO FUNCIONA PRO MOLDE SEM ACENTO\n",
    "    print(shapefile_path)\n",
    "    try :\n",
    "        sdf = sdf_from_shp(shapefile_path)\n",
    "    except: \n",
    "        print(\"erro no modelo\")\n",
    "        return False\n",
    "    display(sdf)\n",
    "    if(tipo=='Inclusao'):\n",
    "        lista_campos=[\"Status\",\"Proprieta\",\"Matricula\",\"Contrato\",\"Imovel\"]\n",
    "        colunas=[\"Status\",\"Proprieta\"]\n",
    "    if(tipo=='Edicao'):\n",
    "        lista_campos=['area_code']\n",
    "        colunas=['area_code']\n",
    "    if(tipo=='Divisao'):\n",
    "        lista_campos=['area_code',\"Status\",\"Proprieta\",\"Matricula\",\"Contrato\",\"Imovel\"]\n",
    "        colunas=[\"Status\",\"Proprieta\"]\n",
    "    \n",
    "    if set(lista_campos).issubset(set(sdf.columns)):\n",
    "        aceito=True\n",
    "    else:\n",
    "        aceito=False\n",
    "\n",
    "    return aceito"
   ]
  },
  {
   "cell_type": "code",
   "execution_count": null,
   "id": "453d0276",
   "metadata": {},
   "outputs": [],
   "source": [
    "def main():\n",
    "    print('Conectado ao SharePoint: ',web.properties['Title'])\n",
    "    items=sharepoint_lists_fundiario(ctx,'Solicitar Modificacao de base')\n",
    "    exclusoes=pd.DataFrame(columns=[\"ID_pedido\", \"Projeto\",\"Exclusao\"])\n",
    "    for item in items:\n",
    "        if(item.properties[\"TipodeOperacaonabase\"]!='Exclusao'):\n",
    "            print(item.properties[\"ID\"])\n",
    "            (caminho,tipo)=download_attachments(ctx,item)\n",
    "            \n",
    "            if(not(verifica_campos_shp(caminho,tipo))):\n",
    "                print(\"nao aceita\")\n",
    "                item.set_property('Title', \"Erro1\")\n",
    "                item.update()\n",
    "                ctx.execute_query()\n",
    "                nome_arquivo = os.path.basename(caminho)\n",
    "                diretorio = os.path.dirname(caminho)\n",
    "                list_ext=['.dbf','.prj','.shp','.shx','cpg']\n",
    "                for ext in list_ext:\n",
    "                    path = os.path.join(diretorio, nome_arquivo[:-4]+ext)\n",
    "                    if (os.path.exists(path)):\n",
    "                        os.remove(path)\n",
    "\n",
    "                print(\"Arquivo .zip removidos do pedido de operacao na base de ID\",item.properties[\"ID\"], \"esta incorreto\")            \n",
    "\n",
    "\n",
    "            else: \n",
    "                print(\"Arquivo .zip :\",os.path.basename(caminho),\"do pedido de operacao na base de ID\",item.properties[\"ID\"], \"esta correto\") \n",
    "main()    "
   ]
  },
  {
   "attachments": {},
   "cell_type": "markdown",
   "id": "b8b2faa5",
   "metadata": {},
   "source": [
    "# 02-Operacoes do algoritmo"
   ]
  },
  {
   "attachments": {},
   "cell_type": "markdown",
   "id": "d0d6f73b",
   "metadata": {
    "papermill": {
     "duration": 0.027296,
     "end_time": "2023-05-06T02:00:54.624540",
     "exception": false,
     "start_time": "2023-05-06T02:00:54.597244",
     "status": "completed"
    },
    "tags": []
   },
   "source": [
    "#### Transfroma os shapefiles num conjunto de sdf (spartial dataframe) , depois compara para ver se o sdf intersecta com o conjunto de poligonos de todos os projetos salvando os que foram rejeitados para mandar por email para seus donos \n",
    "#### verifica tambem se contem conteudo correto nos campo dos moldes e se esta correto e recusa caso nao esteja"
   ]
  },
  {
   "attachments": {},
   "cell_type": "markdown",
   "id": "3159881a",
   "metadata": {
    "papermill": {
     "duration": 0.026553,
     "end_time": "2023-05-06T02:00:54.677048",
     "exception": false,
     "start_time": "2023-05-06T02:00:54.650495",
     "status": "completed"
    },
    "tags": []
   },
   "source": [
    "###### Verifica os shps e atualiza a base"
   ]
  },
  {
   "attachments": {},
   "cell_type": "markdown",
   "id": "1af6c19f",
   "metadata": {
    "papermill": {
     "duration": 0.026355,
     "end_time": "2023-05-06T02:00:54.843067",
     "exception": false,
     "start_time": "2023-05-06T02:00:54.816712",
     "status": "completed"
    },
    "tags": []
   },
   "source": [
    "### Le os shps , verifica as insterseccoes e retorna os features recusados "
   ]
  },
  {
   "cell_type": "code",
   "execution_count": 3,
   "id": "e018d0b5",
   "metadata": {
    "execution": {
     "iopub.execute_input": "2023-05-06T02:00:54.900921Z",
     "iopub.status.busy": "2023-05-06T02:00:54.899000Z",
     "iopub.status.idle": "2023-05-06T02:00:54.902942Z",
     "shell.execute_reply": "2023-05-06T02:00:54.902587Z"
    },
    "papermill": {
     "duration": 0.033377,
     "end_time": "2023-05-06T02:00:54.903056",
     "exception": false,
     "start_time": "2023-05-06T02:00:54.869679",
     "status": "completed"
    },
    "tags": []
   },
   "outputs": [],
   "source": [
    "projetos =['mapa1','mapa2'...]"
   ]
  },
  {
   "cell_type": "code",
   "execution_count": 4,
   "id": "f4956dd8",
   "metadata": {
    "execution": {
     "iopub.execute_input": "2023-05-06T02:00:54.788265Z",
     "iopub.status.busy": "2023-05-06T02:00:54.785916Z",
     "iopub.status.idle": "2023-05-06T02:00:54.789914Z",
     "shell.execute_reply": "2023-05-06T02:00:54.790234Z"
    },
    "papermill": {
     "duration": 0.033759,
     "end_time": "2023-05-06T02:00:54.790365",
     "exception": false,
     "start_time": "2023-05-06T02:00:54.756606",
     "status": "completed"
    },
    "tags": []
   },
   "outputs": [],
   "source": [
    "def retorna_posicao(lista,elemento):\n",
    "    \"\"\"\n",
    "    Retorna a posicao de um elemento em uma lista de objetos\n",
    "    \"\"\"\n",
    "    for i in range(len(lista)):\n",
    "        mapa=str(lista[i])\n",
    "        split=mapa.replace('\"','').replace(' type','').split(':')[1]\n",
    "        if(split==elemento):\n",
    "            return i "
   ]
  },
  {
   "attachments": {},
   "cell_type": "markdown",
   "id": "48d27780",
   "metadata": {},
   "source": [
    "#### Funcoes de content manegement do arcgis "
   ]
  },
  {
   "cell_type": "code",
   "execution_count": 5,
   "id": "d0ef3a97",
   "metadata": {
    "execution": {
     "iopub.execute_input": "2023-05-06T02:00:54.964338Z",
     "iopub.status.busy": "2023-05-06T02:00:54.963660Z",
     "iopub.status.idle": "2023-05-06T02:00:54.968629Z",
     "shell.execute_reply": "2023-05-06T02:00:54.968264Z"
    },
    "papermill": {
     "duration": 0.039276,
     "end_time": "2023-05-06T02:00:54.968732",
     "exception": false,
     "start_time": "2023-05-06T02:00:54.929456",
     "status": "completed"
    },
    "tags": []
   },
   "outputs": [],
   "source": [
    "from arcgis.geometry import lengths, areas_and_lengths, project\n",
    "import pandas as pd\n",
    "def reproject_sdf(sdf,epsg):\n",
    "    if(epsg==3857):\n",
    "        out_SR={'wkid': 102100, 'latestWkid': 3857}\n",
    "    if(epsg==4326):\n",
    "        out_SR={'wkid': 4326}\n",
    "    result = project(\n",
    "        geometries=list(sdf['SHAPE']),\n",
    "        in_sr=sdf.spatial.sr,\n",
    "        out_sr=out_SR\n",
    "    )\n",
    "\n",
    "    sdf_reprojetado = pd.DataFrame(columns=sdf.columns)\n",
    "\n",
    "    for col in list(sdf):\n",
    "        if col != \"SHAPE\":\n",
    "            sdf_reprojetado.loc[:, col] = sdf[col].values\n",
    "\n",
    "    for i, row in sdf_reprojetado.iterrows():\n",
    "        sdf_reprojetado.at[i, 'SHAPE']  = result[i]\n",
    "        \n",
    "    # Define a coluna \"SHAPE\" como coluna espacial do DataFrame\n",
    "    sdf_reprojetado.spatial.set_geometry('SHAPE', inplace=True)\n",
    "    return sdf_reprojetado\n"
   ]
  },
  {
   "cell_type": "code",
   "execution_count": 6,
   "id": "38033de8",
   "metadata": {},
   "outputs": [],
   "source": [
    "def retorna_df_areas_projetos(projetos):\n",
    "    dict_layer = {}\n",
    "    for projeto in projetos:\n",
    "        map_projeto = gis.content.search('title:' + projeto, 'Feature Layer')\n",
    "        Projeto_item = map_projeto[retorna_posicao(map_projeto, projeto)]\n",
    "        Projeto_layers = Projeto_item.layers\n",
    "        Projeto_tables = Projeto_item.tables\n",
    "        dict_layer[projeto]={}\n",
    "        for layer in Projeto_layers:\n",
    "            lyr_fset = layer.query()\n",
    "            lyr_sdf = lyr_fset.sdf\n",
    "            dict_layer[projeto][layer.properties.name]={'sublayer': layer, 'sdf': lyr_sdf}\n",
    "    return dict_layer\n"
   ]
  },
  {
   "cell_type": "code",
   "execution_count": 7,
   "id": "ae5f95ba",
   "metadata": {},
   "outputs": [],
   "source": [
    "def efetua_exclusoes(sdf,sublayer,operacao_exclusao,dict_layers,Projeto):\n",
    "    print(operacao_exclusao)\n",
    "    if(not(operacao_exclusao)):\n",
    "        sdf_sublayer=dict_layers[Projeto][sublayer]['sdf']\n",
    "        if not sdf_sublayer.empty:\n",
    "            lista_area_code = sdf_sublayer['area_code'].unique()\n",
    "            condicao = sdf['area_code'].isin(lista_area_code)\n",
    "            display(sdf_sublayer[condicao][['OBJECTID']])\n",
    "            lista_deletes=[]\n",
    "            lista_deletes = str(sdf_sublayer[condicao][['OBJECTID']].tolist())\n",
    "            print(lista_deletes)\n",
    "            if(lista_deletes!=[]):result=dict_layers[Projeto][sublayer]['sublayer'].edit_features(deletes=lista)\n",
    "            if(result):\n",
    "                print(\"para o sublayer\", sublayer,\"temos:\")\n",
    "                print(\"features deletados de area_code\",areas_code)\n",
    "                if(operacao_exclusao):confirma_pedidos(sdf,'Exclusao')\n",
    "    else : print(\"nao entro\")"
   ]
  },
  {
   "cell_type": "code",
   "execution_count": 8,
   "id": "3069c135",
   "metadata": {},
   "outputs": [],
   "source": [
    "#Retorna o dicionario contendo as infos de todos os layers\n",
    "dict_layers=retorna_df_areas_projetos(projetos)"
   ]
  },
  {
   "attachments": {},
   "cell_type": "markdown",
   "id": "5c3d64e9",
   "metadata": {},
   "source": [
    "#### Funcoes de verificacoes"
   ]
  },
  {
   "cell_type": "code",
   "execution_count": null,
   "id": "559450d1",
   "metadata": {},
   "outputs": [],
   "source": [
    "projetos_GPD =['BRE','CUN','ESV','JAG','MEL','SAL','SAS','SCA','SDJ','SEC','SGA','SGE','SGO','SGW','SIB','SPA','SSE','STE','TDV','VCH','VES']\n",
    "projetos_novos=['SMA','SSV','STA','SCR','SCB','SOU']"
   ]
  },
  {
   "cell_type": "code",
   "execution_count": null,
   "id": "f39f38d4",
   "metadata": {},
   "outputs": [],
   "source": [
    "def atribuir_erro(sdf,erro_tipo,condicao):\n",
    "    sdf.loc[condicao, 'erro'] = erro_tipo\n",
    "    return sdf"
   ]
  },
  {
   "cell_type": "code",
   "execution_count": null,
   "id": "e0ac57e2",
   "metadata": {},
   "outputs": [],
   "source": [
    "import numpy as np\n",
    "def verifica_campos_vazios(sdf, tipo, filename, dict_layers):\n",
    "    Projeto = filename.split('_')[0]\n",
    "    sdf_props = dict_layers[Projeto]['Areas']['sdf']\n",
    "    ID_pedido = filename.split('_')[3][:-4]\n",
    "    \n",
    "    sdf['ID_pedido'] = [ID_pedido] * len(sdf)  # Rastreio do pedido\n",
    "    sdf[\"erro\"] = np.nan * len(sdf)\n",
    "\n",
    "    # Verifica erros de geometria\n",
    "    condicao = ~sdf['SHAPE'].apply(lambda geom: geom.is_valid())\n",
    "    sdf = atribuir_erro(sdf, 8, condicao)\n",
    "    \n",
    "    # Bloco case\n",
    "    if(tipo=='Edicao'):\n",
    "        actions = {\n",
    "        'Edicao': [\n",
    "                    (3, ~sdf['area_code'].isin(sdf.drop_duplicates(subset=['area_code'], keep=False)['area_code'])),\n",
    "                    (2, ~sdf['area_code'].isin(sdf_props['area_code'].unique()))\n",
    "                    ]\n",
    "                    }\n",
    "    if(tipo=='Inclusao'):\n",
    "        actions = {\n",
    "            'Inclusao': [\n",
    "                (5,  ~(((sdf['Matricula'].notnull() | sdf['Contrato'].notnull()) & (sdf['Status'] == 'Mapeado com documentos')) | (sdf['Status'] == 'Mapeado sem documentos')) & (sdf['Status'].notnull() & sdf['Proprieta'].notnull()))\n",
    "                ]\n",
    "            }\n",
    "    if tipo in actions:\n",
    "        for error_code, condition in actions[tipo]:\n",
    "            sdf = atribuir_erro(sdf, error_code, condition)\n",
    "    \n",
    "    # Reprojeta apenas os sdf que não contêm erros\n",
    "    condicao_erro_nan = sdf['erro'].isna()\n",
    "    if not sdf[condicao_erro_nan].empty:\n",
    "        sdf.loc[condicao_erro_nan, 'SHAPE'] = reproject_sdf(sdf[condicao_erro_nan], 3857)['SHAPE']\n",
    "    \n",
    "    return sdf\n",
    "\n"
   ]
  },
  {
   "attachments": {},
   "cell_type": "markdown",
   "id": "4fc9e4d3",
   "metadata": {},
   "source": [
    "#### Funcoes de atualizacoes nos mapas & sharepoint"
   ]
  },
  {
   "cell_type": "code",
   "execution_count": null,
   "id": "7b376063",
   "metadata": {},
   "outputs": [],
   "source": [
    "import zipfile\n",
    "def zipar_arquivos(nome_arquivo_zip,pasta):\n",
    "    arquivos_zip = [arquivo for arquivo in os.listdir(pasta) if arquivo.startswith(\"recusada_\") and arquivo.endswith((\".shp\", \".shx\", \".prj\",\"dbf\"))]\n",
    "    \n",
    "    with zipfile.ZipFile(os.path.join(pasta, nome_arquivo_zip), 'w', zipfile.ZIP_DEFLATED) as zipf:\n",
    "        [zipf.write(os.path.join(pasta, arquivo), os.path.relpath(os.path.join(pasta, arquivo), pasta)) for arquivo in arquivos_zip]\n",
    "    \n",
    "    for arquivo in arquivos_zip:\n",
    "        caminho_completo = os.path.join(pasta, arquivo)\n",
    "        os.remove(caminho_completo)\n",
    "    \n",
    "    return os.path.join(pasta, nome_arquivo_zip)"
   ]
  },
  {
   "cell_type": "code",
   "execution_count": null,
   "id": "a373e7db",
   "metadata": {},
   "outputs": [],
   "source": [
    "def retorna_area(geometria):\n",
    "    return geometria.area/4046.85642"
   ]
  },
  {
   "cell_type": "code",
   "execution_count": null,
   "id": "59eeee08",
   "metadata": {},
   "outputs": [],
   "source": [
    "import pandas as pd\n",
    "from arcgis.features import FeatureLayer\n",
    "from arcgis.geometry.functions import *\n",
    "from arcgis.geometry import Polygon, Geometry, Point, Polyline\n",
    "from arcgis.geocoding import geocode\n",
    "from arcgis.geometry.filters import *\n",
    "\n",
    "def encontra_sobreposicao(sdf1, sdf2, col1, col2):\n",
    "    # converter geometrias do SDF em objetos Geometry\n",
    "    geometries1 = [Geometry(geometry) for geometry in sdf1['SHAPE']]\n",
    "    geometries2 = [Geometry(geometry) for geometry in sdf2['SHAPE']]\n",
    "    \n",
    "    # cria objeto R-tree a partir do segundo SpatialDataFrame\n",
    "    rtree = sdf2.spatial.sindex('rtree', reset=False)\n",
    "    # encontra índices das geometrias de sdf2 que se intersectam com sdf1\n",
    "    intersecting_indexes = set()\n",
    "    for i, geometry in enumerate(geometries1):\n",
    "        intersecting_indexes.update(rtree.intersect(geometry.extent))\n",
    "    \n",
    "    # converte índices em pares únicos de geometrias que se intersectam\n",
    "    intersecting_pairs = set()\n",
    "    for i in intersecting_indexes:\n",
    "        if i < len(sdf2):\n",
    "            # a geometria é do segundo sdf\n",
    "            for j, geometry in enumerate(geometries1):\n",
    "                try:\n",
    "                    if Geometry(geometry).intersect(Geometry(sdf2.loc[i, 'SHAPE'])):\n",
    "                        intersecting_pairs.add((j, i))\n",
    "\n",
    "                except:\n",
    "                    print(\"Para a propriedade OBJECTID\", sdf1[col1][j], \"foi detectado um erro de topologia na interseção\")\n",
    "                    sdf1.iloc[j, sdf1.columns.get_loc(\"erro\")] = 8\n",
    "                    \n",
    "\n",
    "    # criar um dicionário para armazenar as áreas das interseções\n",
    "    areas_intersect = pd.DataFrame(columns=[col1, \"area_acres\", col2, \"SHAPE\"])\n",
    "    \n",
    "    # calcular as áreas das interseções e armazená-las no dicionário\n",
    "    for i, j in intersecting_pairs:\n",
    "        try:\n",
    "            intersection = geometries1[i].intersect(geometries2[j])\n",
    "            \n",
    "            if not intersection.is_empty and 'rings' in intersection:\n",
    "                areas_intersect = areas_intersect.append({ \n",
    "                                            \"area_acres\": abs(retorna_area(intersection)),\n",
    "                                            col1: sdf1[col1][i],\n",
    "                                            col2: sdf2[col2][j],\n",
    "                                            \"SHAPE\": intersection\n",
    "                                        }, ignore_index=True)\n",
    "        except Exception as e:\n",
    "            # Tratar casos de erro de Topologia, ou seja, erros de ordem de pontos (8)\n",
    "            if 'TopologyException' and 'geom 1' in str(e):\n",
    "                print(\"Para a propriedade OBJECTID\", sdf1[col1][i], \"foi detectado um erro de topologia na interseção\")\n",
    "                sdf1.iloc[i, sdf1.columns.get_loc(\"erro\")] = 8\n",
    "\n",
    "    areas_intersect.spatial.set_geometry('SHAPE', inplace=True)\n",
    "    return areas_intersect\n"
   ]
  },
  {
   "cell_type": "code",
   "execution_count": null,
   "id": "cfa4293b",
   "metadata": {},
   "outputs": [],
   "source": [
    "def confirma_pedidos(sdf,tipo_operacao):\n",
    "    caminho = '/arcgis/home/Nao Incluidos'\n",
    "    items = sharepoint_lists_fundiario(ctx, 'Solicitar Modificacao de base')\n",
    "    ID = sdf['ID_pedido'].drop_duplicates().iloc[0]\n",
    "    for item in items:\n",
    "        if str(item.properties['ID']) == str(ID):\n",
    "            if sdf['erro'].notnull().any():\n",
    "                item.set_property('Title', 'Erro2')\n",
    "                item.update()\n",
    "                ctx.execute_query()\n",
    "                path = os.path.join(caminho, 'temp', 'recusada_' + ID)\n",
    "                print(\"EAE\")\n",
    "                colunas_erro=['erro','Proprietario_principal','SHAPE']\n",
    "                if 'area_acres_intersect' and 'area_code_intersect' in sdf.columns:\n",
    "                    colunas_erro.append('area_acres_intersect')\n",
    "                    colunas_erro.append('area_code_intersect')\n",
    "        \n",
    "                sdf[~sdf['erro'].isna()][colunas_erro].spatial.to_featureclass(location=path, overwrite=True)\n",
    "                arquivo_zip = zipar_arquivos(os.path.join(caminho, 'temp',ID + '_' + 'Erro2.zip'),os.path.join(caminho, 'temp'))\n",
    "\n",
    "                with open(arquivo_zip, 'rb') as fh:\n",
    "                    file_content = fh.read()\n",
    "                \n",
    "                print(arquivo_zip)\n",
    "                folder_in_sharepoint = '/sites/Fundiario/Erros'\n",
    "                name = os.path.basename(arquivo_zip)\n",
    "                target_folder = ctx.web.get_folder_by_server_relative_url(folder_in_sharepoint)\n",
    "                target_file = target_folder.upload_file(name, file_content).execute_query()\n",
    "                \n",
    "                os.remove(arquivo_zip)\n",
    "            else:\n",
    "                item.set_property('Title', 'Incluido_na_base(editado_power_automate)')\n",
    "                item.update()\n",
    "                ctx.execute_query()\n",
    "\n",
    "            if tipo_operacao != 'Exclusao':\n",
    "                for root, dirs, files in os.walk(caminho):\n",
    "                    for file in files:\n",
    "                        if ID in file:\n",
    "                            os.remove(os.path.join(root, file))\n",
    "                    print(\"objeto de ID\", ID, \"apagado\")\n"
   ]
  },
  {
   "cell_type": "code",
   "execution_count": null,
   "id": "7f846456",
   "metadata": {},
   "outputs": [],
   "source": [
    "def edit_features_sdf(sdf_edits,tipo,layer_projeto,Projeto):\n",
    "        \"\"\"\n",
    "            No caso das edicoes de Interseccoes e areas aprovadas podem ocorrer de ter mais de um caso para cada prop , \n",
    "            dessa forma para garantir que as edicoes nao deixem features \"a mais\" e necessario primeiro apagar e entao adicionar\n",
    "        \"\"\" \n",
    "        actions = {\n",
    "                    'Edicao': {\n",
    "                        'Areas_Intersect': ('adds', False),\n",
    "                        'Areas_Aprovadas': ('adds', False),\n",
    "                        'Areas': ('updates', None)\n",
    "                    },\n",
    "                    'Inclusao': {\n",
    "                        'Areas_Intersect': ('adds', True),\n",
    "                        'Areas_Aprovadas': ('adds', True),\n",
    "                        'Areas': ('adds', True)\n",
    "                    }\n",
    "                }\n",
    "        #Agora e necessario adicionar nos mapas e marcar o pedido como aceito ou rejeitado  \n",
    "    \n",
    "        sdf_copia=sdf_edits['Areas'].copy()\n",
    "        sdf_edits['Areas']=sdf_edits['Areas'][sdf_edits['Areas']['erro'].isna()]\n",
    "        sublayers=['Areas']\n",
    "        #sublayers=['Areas_Intersect','Areas_Aprovadas','Areas']\n",
    "\n",
    "        if tipo in actions:\n",
    "            for sublayer in sublayers:\n",
    "                if not sdf_edits[sublayer].empty:\n",
    "                    print(sublayer)\n",
    "                    #Monta o feature set para adicionar no arcgis\n",
    "                    fields = [i['name'] for i in layer_projeto[Projeto][sublayer]['sublayer'].properties.fields if i['editable']]\n",
    "                    if sublayer != 'Areas_Aprovadas':\n",
    "                        fields.append('SHAPE')\n",
    "                    if tipo == 'Edicao':\n",
    "                        fields.append('OBJECTID')\n",
    "                    edit_fs_df = pd.DataFrame(columns=fields)\n",
    "                    for col in edit_fs_df.columns:\n",
    "                        if col in sdf_edits[sublayer]:\n",
    "                            edit_fs_df[col] = sdf_edits[sublayer][col].values\n",
    "                    feature_set = edit_fs_df.spatial.to_featureset()\n",
    "                    display(sdf_edits[sublayer])\n",
    "                    #aplica as acoes necesserias \n",
    "                    action, arg = actions[tipo][sublayer]\n",
    "                    if action == 'updates':\n",
    "                        result = layer_projeto[Projeto][sublayer]['sublayer'].edit_features(updates=feature_set)\n",
    "                    elif action == 'adds':\n",
    "                        efetua_exclusoes(sdf_edits[sublayer], sublayer, arg, dict_layers, Projeto)\n",
    "                        result = layer_projeto[Projeto][sublayer]['sublayer'].edit_features(adds=feature_set)\n",
    "\n",
    "                    print(result)\n",
    "\n",
    "                    if(result):\n",
    "                        if(tipo=='Edicao'):print(\"features editados com sucesso\")\n",
    "                        if(tipo=='Inclusao'):print(\"features incluidos com sucesso\")\n",
    "\n"
   ]
  },
  {
   "cell_type": "code",
   "execution_count": null,
   "id": "6082de3d",
   "metadata": {
    "execution": {
     "iopub.execute_input": "2023-05-06T02:01:57.435174Z",
     "iopub.status.busy": "2023-05-06T02:01:57.433933Z",
     "iopub.status.idle": "2023-05-06T02:01:58.462349Z",
     "shell.execute_reply": "2023-05-06T02:01:58.461959Z"
    },
    "papermill": {
     "duration": 1.068775,
     "end_time": "2023-05-06T02:01:58.462466",
     "exception": false,
     "start_time": "2023-05-06T02:01:57.393691",
     "status": "completed"
    },
    "tags": []
   },
   "outputs": [],
   "source": [
    "import pandas as pd\n",
    "def encotra_areas_inutilizadas(frase):\n",
    "    import re\n",
    "    padrao = r\"PROP-\\w{3}-\\d{4}\"\n",
    "\n",
    "    ocorrencias = re.findall(padrao, frase)\n",
    "    return ocorrencias\n",
    "\n",
    "def faz_exclusoes():\n",
    "    dict_layers=retorna_df_areas_projetos(projetos)\n",
    "    items=sharepoint_lists_fundiario(ctx,'Solicitar Modificacao de base')\n",
    "    exclusoes=pd.DataFrame(columns=[\"ID_pedido\", \"Projeto\",\"Exclusao\"])\n",
    "    for item in items:\n",
    "        if(item.properties[\"TipodeOperacaonabase\"]=='Exclusao'):\n",
    "            if(item.properties[\"Areaaserexcluida\"] is not None):\n",
    "                try:\n",
    "                    for exclusao in encotra_areas_inutilizadas(item.properties[\"Areaaserexcluida\"]):\n",
    "                        exclusoes=exclusoes.append({ \n",
    "                                        \"ID_pedido\": item.properties[\"Id\"],\n",
    "                                        \"Projeto\":item.properties['Projeto'],\n",
    "                                        \"area_code\":exclusao\n",
    "                                    }, ignore_index=True)\n",
    "                except:\n",
    "                    item.set_property('Title', \"Erro1\")\n",
    "                    item.update()\n",
    "                    ctx.execute_query()\n",
    "                exclusoes['TipodeOperacaonabase']=[item.properties[\"TipodeOperacaonabase\"]] * len(exclusoes)\n",
    "    if not exclusoes.empty:                                                      \n",
    "        efetua_exclusoes(exclusoes,'Areas',True,dict_layers)  "
   ]
  },
  {
   "cell_type": "code",
   "execution_count": null,
   "id": "7d6de9cd",
   "metadata": {
    "execution": {
     "iopub.execute_input": "2023-05-06T02:00:55.232113Z",
     "iopub.status.busy": "2023-05-06T02:00:55.216079Z",
     "iopub.status.idle": "2023-05-06T02:01:57.361940Z",
     "shell.execute_reply": "2023-05-06T02:01:57.361571Z"
    },
    "papermill": {
     "duration": 62.182298,
     "end_time": "2023-05-06T02:01:57.362048",
     "exception": false,
     "start_time": "2023-05-06T02:00:55.179750",
     "status": "completed"
    },
    "scrolled": true,
    "tags": []
   },
   "outputs": [],
   "source": [
    "from arcgis import GIS\n",
    "import pandas as pd\n",
    "import zipfile\n",
    "from arcgis.geometry import Polygon, Geometry, Point, Polyline\n",
    "\n",
    "import numpy as np\n",
    "\n",
    "def retorna_novo_codigo_GPD(Projeto,sdf):\n",
    "    #### insere os numeros das props quando e INCLUSAO\n",
    "    lista_area_code = dict_layers[Projeto]['Areas']['sdf']['area_code'].unique()\n",
    "    maximo = int(max(lista_area_code, key=lambda x: int(x.split('-')[-1])).split('-')[2])\n",
    "    \n",
    "    if lista_area_code is []: sdf['area_code'] = '0'\n",
    "    \n",
    "    # gerar uma sequência de novos números\n",
    "    n_novos_itens = len(sdf)\n",
    "    novos_numeros = range(maximo+1, maximo+1+n_novos_itens)\n",
    "\n",
    "    # atribuir os novos números à coluna area_code\n",
    "    df_novos = pd.DataFrame({'area_code': [f'PROP-{str(Projeto).zfill(3)}-{str(n).zfill(4)}' for n in novos_numeros]})\n",
    "\n",
    "    #atribui as colunas que nao tao no padrao\n",
    "    sdf['area_code'] = df_novos['area_code'].values\n",
    "    \n",
    "    return sdf\n",
    "\n",
    "def verifica_intersect(sdf,filename,dict_layers):\n",
    "    \n",
    "    #Inicia as variaveis necessarias para rastreio\n",
    "    ID_pedido=filename.split('_')[3][:-4]\n",
    "    ID_author=filename.split('_')[2]\n",
    "    Projeto=filename.split('_')[0]\n",
    "    TipodeOperacaonabase=filename.split('_')[1]\n",
    "    \n",
    "    #Variaveis do pedido\n",
    "    sdf['Projeto']=[Projeto]*len(sdf)\n",
    "    sdf['TipodeOperacaonabase']=[TipodeOperacaonabase]* len(sdf)\n",
    "    \n",
    "    print(\"inicio\")\n",
    "    display(sdf)\n",
    "    #sdf de analises das props\n",
    "    areas=dict_layers[Projeto]['Areas']['sdf']\n",
    "    areas_filtradas = areas[areas['area_code'].str.contains(Projeto)]\n",
    "    \n",
    "    if(TipodeOperacaonabase=='Inclusao'):\n",
    "        sdf=sdf.rename(columns={'Proprieta': 'Proprietario_principal'})\n",
    "    # Um sdf do tipo edicao nao tem as infos dentro do poligono enquanto a inclusao nao tem area_code\n",
    "    if(TipodeOperacaonabase=='Edicao'):\n",
    "        #para a edicao conter todos os campos e capturar o OBJECT ID conrrespondente\n",
    "        if 'OBJECTID' in sdf.columns:sdf = sdf.drop('OBJECTID', axis=1)\n",
    "        sdf = pd.merge(sdf, areas[['area_code','OBJECTID','Status',\"Proprietario_principal\",'Contrato',\"Matricula\"]], on='area_code')\n",
    "        #eliminando as areas com o mesmo area_code da area a ser editada no projeto , eliminando area de interseccao com ela mesma\n",
    "        area_codes = sdf['area_code'].unique()\n",
    "        mask = areas_filtradas['area_code'].isin(area_codes)\n",
    "        areas_filtradas.drop(areas_filtradas[mask].index, inplace=True)\n",
    "    \n",
    "    #renomeando para nao haver campo \"area_code\" duplicados\n",
    "    areas_filtradas=areas_filtradas.rename(columns={'area_code': 'area_code_intersect'})\n",
    "    sdf_sem_erros=sdf[sdf['erro'].isna()]\n",
    "    sdf_sem_erros.spatial.set_geometry('SHAPE', inplace=True)\n",
    "    sdf_intersect_props=encontra_sobreposicao(sdf_sem_erros, areas_filtradas,'OBJECTID','area_code_intersect')\n",
    "    sdf_intersect_props=sdf_intersect_props.rename(columns={'area_acres': 'area_acres_intersect'})\n",
    "\n",
    "    if not(sdf_intersect_props.empty):\n",
    "        #Aplica a condicao de aceitacao e recusa do poligono onde se houver mais de 2(ha) de interseccao a area sera recusada e enviada para revisao (7)\n",
    "        merge_condition=sdf_intersect_props['area_acres_intersect']>2\n",
    "        aggregated_df = sdf_intersect_props[merge_condition].drop_duplicates(subset='OBJECTID')\n",
    "        sdf = sdf.merge(aggregated_df[['area_acres_intersect','area_code_intersect','OBJECTID']], on='OBJECTID', how='left')\n",
    "        display(sdf)\n",
    "        condicao = sdf['area_acres_intersect'] > 2\n",
    "        sdf = atribuir_erro(sdf, 7, condicao)\n",
    "\n",
    "    #Dicionario que contem os edits do sublayer , ira-se adicionar apenas os que nao contem erros \n",
    "    sdf_operacoes_mapas={'Areas':sdf,'Areas_Intersect': sdf_intersect_props, 'Areas_Aprovadas': pd.DataFrame()}    \n",
    "    \n",
    "    if sdf[sdf['erro'].isna()].empty:\n",
    "        print(\"O SpatialDataFrame está vazio ,todas as props foram recusadas devido a interseccoes maiores que 2(ha) para o id\",ID_pedido)\n",
    "    else:\n",
    "        #Agora verifica se a area intersecta buffers de linhas de aeros ou poligonos de paineis solares \n",
    "        print(\"O DataFrame não está vazio.\")\n",
    "        \n",
    "        if(TipodeOperacaonabase=='Edicao'):\n",
    "            sdf['ID_Editor']=[ID_author]* len(sdf)\n",
    "        if(TipodeOperacaonabase=='Inclusao'):    \n",
    "            sdf['ID_Creator']=[ID_author]* len(sdf)\n",
    "            sdf.loc[sdf['erro'].isna(),'area_code']=retorna_novo_codigo_GPD(Projeto,sdf[sdf['erro'].isna()])\n",
    "            sdf_intersect_props=sdf_intersect_props.merge(sdf[['OBJECTID', 'area_code']], on='OBJECTID', how='left')\n",
    "            sdf_intersect_props = sdf_intersect_props.drop('OBJECTID', axis=1)\n",
    "            sdf = sdf.drop('OBJECTID', axis=1)\n",
    "        inicio=True\n",
    "        if Projeto in projetos_GPD:\n",
    "            for buffer in ['Linhas_EOL', 'Linhas_UFV']:\n",
    "                linhas_aeros = dict_layers[Projeto][buffer]['sdf']\n",
    "                if not linhas_aeros.empty:\n",
    "                    linhas_filtradas = linhas_aeros[linhas_aeros['linha_code'].str.contains(Projeto)]\n",
    "                    \n",
    "                    sdf_sem_erros = sdf[sdf['erro'].isna()]\n",
    "                    sdf_sem_erros.spatial.set_geometry('SHAPE', inplace=True)\n",
    "                    sdf_linha_props = encontra_sobreposicao(sdf_sem_erros, linhas_filtradas, 'area_code', 'linha_code')\n",
    "                    if(inicio):\n",
    "                        sdf_linhas=sdf_linha_props\n",
    "                        inicio=False\n",
    "                    else:\n",
    "                        if not (sdf_linha_props.empty):\n",
    "                            sdf_linhas = pd.concat([sdf_linha_props, sdf_linhas], ignore_index=True)\n",
    "            \n",
    "            sdf['Status_Aprovacao'] = [\"Parcialmente Aprovado\"] * len(sdf)\n",
    "            if(inicio):\n",
    "                #sdf.loc[sdf['area_code'].isin(sdf_linhas['area_code']), 'linha_code'] = sdf_linha_props['linha_code']\n",
    "                sdf.loc[sdf['area_code'].isin(sdf_linhas['area_code']), 'Status_Aprovacao'] = 'Aprovado'\n",
    "                sdf_operacoes_mapas['Areas_Aprovadas'] = sdf_linhas\n",
    "                sdf_operacoes_mapas['Areas'] = sdf\n",
    "\n",
    "                print(\"fim\")\n",
    "        \n",
    "    print(\"sdf do pedido\")\n",
    "    display(sdf_operacoes_mapas['Areas'])        \n",
    "    #Adiciona o sdf e muda o status do pedido pra Aceito \n",
    "    edit_features_sdf(sdf_operacoes_mapas,TipodeOperacaonabase,dict_layers,Projeto)\n",
    "\n",
    "    return sdf\n",
    "               "
   ]
  },
  {
   "attachments": {},
   "cell_type": "markdown",
   "id": "68f3f171",
   "metadata": {},
   "source": [
    "#### Executa o processo de verificacoes dos shps e atualizacoes nos mapas"
   ]
  },
  {
   "cell_type": "code",
   "execution_count": null,
   "id": "20c35f9b",
   "metadata": {},
   "outputs": [],
   "source": [
    "def separar_por_props_novas(sdf):\n",
    "    sdf_com_objectid = sdf[sdf['TipodeOperacaonabase']=='Edicao']\n",
    "    sdf_sem_objectid = sdf[sdf['TipodeOperacaonabase']=='Inclusao']\n",
    "    return sdf_com_objectid, sdf_sem_objectid\n",
    "\n",
    "def main():\n",
    "    caminho='/arcgis/home/Nao Incluidos'\n",
    "    inicio=True\n",
    "    \n",
    "    # percorre o diretório e realiza as operações necessárias\n",
    "    for root, dirs, files in os.walk(caminho):\n",
    "        for diretorio in dirs:\n",
    "            if(diretorio in ['Inclusao','Edicao','Divisao']):\n",
    "                print(\"No diretório: \", diretorio)\n",
    "                diretorio_atual = os.path.join(root, diretorio)\n",
    "                for file in os.listdir(diretorio_atual):\n",
    "                    if file.endswith(\".shp\"):\n",
    "                        path=os.path.join(root,diretorio_atual,file)\n",
    "                        print(\"Coletando info geograficas do .shp\", path)\n",
    "                        sdf=verifica_campos_vazios(sdf_from_shp(path),diretorio,file,dict_layers)\n",
    "                        sdf=verifica_intersect(sdf,file,dict_layers)\n",
    "                        confirma_pedidos(sdf,diretorio_atual)\n",
    "                        if(inicio):\n",
    "                            sdf_pedidos=sdf\n",
    "                            inicio=False\n",
    "                        else:\n",
    "                            sdf_pedidos = pd.concat([sdf, sdf_pedidos], ignore_index=True)\n",
    "                                                              \n",
    "    if not sdf_pedidos.empty:\n",
    "        print(\"Informacoes coletadas\")\n",
    "        sdf_pedidos.rename(columns={'Proprieta': 'Proprietario_principal'}, inplace=True)\n",
    "        print(\"Os pedidos aceitos foram:\")\n",
    "        display(sdf_pedidos)\n",
    "        #sdf_adds=separar_por_props_novas(sdf_pedidos)\n",
    "        colunas=['Projeto','area_code','Proprietario_principal','Imovel','Status','Matricula','Contrato']\n",
    "        if(sdf_pedidos['area_code_intersect'].notna().any()):colunas.append('Areas_Intersect')\n",
    "        #if('linha_code' in sdf_pedidos.columns):colunas.append('Status_Aprovacao')\n",
    "        sdf_pedidos[sdf_pedidos['TipodeOperacaonabase']=='Inclusao'].to_excel('/arcgis/home/modificacoes na base.xlsx', index=False)\n",
    "        print(\"Os pedidos recusados foram:\")\n",
    "        display(sdf_pedidos.loc[~sdf_pedidos['erro'].isna()])\n",
    "    else:\n",
    "        print(\"So ha pedidos recusados\")\n",
    "        display(sdf_pedidos.loc[~sdf_pedidos['erro'].isna()])\n",
    "\n",
    "faz_exclusoes()\n",
    "main()"
   ]
  },
  {
   "attachments": {},
   "cell_type": "markdown",
   "id": "a92f7d8c",
   "metadata": {},
   "source": [
    "# 03-Saidas"
   ]
  },
  {
   "attachments": {},
   "cell_type": "markdown",
   "id": "ba12fe44",
   "metadata": {},
   "source": [
    "### Captura as inclusoes recentes e insre numa planilha com uma macro que insere nas planilhas GPD"
   ]
  },
  {
   "cell_type": "code",
   "execution_count": null,
   "id": "407caa15",
   "metadata": {},
   "outputs": [],
   "source": [
    "import datetime\n",
    "import pandas as pd\n",
    "\n",
    "def retorna_projeto_data(titulo_projeto,mes,dia,ano):\n",
    "    map_projeto = gis.content.search('title:'+titulo_projeto,'Feature Layer')\n",
    "    mapa = map_projeto[retorna_posicao(map_projeto,titulo_projeto)]\n",
    "    Projeto_layers= mapa.layers\n",
    "    for lyr in Projeto_layers:\n",
    "            if(lyr.properties.name == 'Areas'):\n",
    "                    layer=lyr\n",
    "    data_alvo = datetime.date(ano, mes, dia) # define a data de referência\n",
    "    #ex:data_alvo = datetime.date(2023, 3, 12)\n",
    "    data_alvo_str = data_alvo.isoformat() # converte para uma string no formato 'AAAA-MM-DD'\n",
    "    filtro_data = f\"CreationDate >= TIMESTAMP '{data_alvo_str}'\"\n",
    "    resultados = layer.query(where=filtro_data)\n",
    "    areas=resultados.sdf\n",
    "    return areas\n",
    "def captura_inclusoes_hoje():\n",
    "    # Obter a data atual\n",
    "    data_atual = datetime.date.today()\n",
    "\n",
    "    # Obter o dia\n",
    "    dia = data_atual.day\n",
    "    #dia=8\n",
    "\n",
    "    # Obter o mês\n",
    "    mes = data_atual.month\n",
    "    #mes=6\n",
    "\n",
    "    inicio=True\n",
    "    for projeto in projetos:\n",
    "        sdf=retorna_projeto_data(projeto,mes,dia,2023)\n",
    "        if not sdf.empty:\n",
    "            print(\"Ha itens novos para o projeto\",projeto)\n",
    "            sdf['Projeto']=[projeto]*len(sdf)\n",
    "            if(inicio):\n",
    "                sdf_pedidos=sdf\n",
    "                inicio=False\n",
    "            else:\n",
    "                sdf_pedidos=pd.concat([sdf_pedidos, sdf], ignore_index=True)\n",
    "\n",
    "    heading_meses=[]\n",
    "\n",
    "    colunas=['Projeto','area_code','Proprietario_principal','Imovel','Status','Matricula','Contrato']\n",
    "    df=sdf_pedidos[colunas]\n",
    "\n",
    "    df = df.rename(columns={'Proprietario_principal': 'Proprietário principal'})\n",
    "    df = df.rename(columns={'area_code': 'AREA_CODE'})\n",
    "    df = df.rename(columns={'Imovel': 'Imóvel'})\n",
    "    df['mes']=len(df)*[heading_meses[mes-1]]\n",
    "\n",
    "    return df"
   ]
  },
  {
   "cell_type": "code",
   "execution_count": null,
   "id": "06404f4d",
   "metadata": {},
   "outputs": [],
   "source": [
    "dataset = '/arcgis/home/excel.xlsm'"
   ]
  },
  {
   "cell_type": "code",
   "execution_count": null,
   "id": "470b46ba",
   "metadata": {},
   "outputs": [],
   "source": [
    "import openpyxl\n",
    "\n",
    "arquivo_adds=dataset\n",
    "\n",
    "def salva_adds_excel():\n",
    "    df=captura_inclusoes_hoje()\n",
    "    # Carregar o arquivo Excel existente\n",
    "    workbook = openpyxl.load_workbook(arquivo_adds,keep_vba=True)\n",
    "\n",
    "    # Selecionar a planilha \"Indice\"\n",
    "    sheet = workbook['Indice']\n",
    "\n",
    "    # Criar um dicionário para mapear o nome da coluna para o número da coluna na planilha \"Indice\"\n",
    "    column_dict = {}\n",
    "    for column in sheet.iter_cols(min_row=1, max_row=1):\n",
    "        for cell in column:\n",
    "            column_dict[cell.value] = cell.column\n",
    "\n",
    "    # Adicionar uma coluna com os índices do DataFrame original\n",
    "    df['Indice'] = df.index\n",
    "\n",
    "    # Agrupar as linhas por projeto no dataframe\n",
    "    agrupado = df.groupby('Projeto')\n",
    "\n",
    "    # Apagar os valores da coluna \"Importado fundiário\"\n",
    "    for row in sheet.iter_rows(min_row=2, min_col=column_dict['Importado fundiário'], max_col=10):\n",
    "        row[0].value = None\n",
    "\n",
    "    for row in sheet.iter_rows(min_row=2, min_col=column_dict['Linha inicial'], max_col=10):\n",
    "        row[0].value = None\n",
    "\n",
    "    for row in sheet.iter_rows(min_row=2, min_col=column_dict['Linha final'], max_col=10):\n",
    "        row[0].value = None    \n",
    "\n",
    "    # Percorrer os grupos de projetos\n",
    "    for projeto, grupo in agrupado:\n",
    "        # Localizar a linha correspondente na coluna \"Projeto\" da planilha \"Indice\"\n",
    "        for row in sheet.iter_rows(min_row=2, max_col=column_dict['Projeto'], max_row=sheet.max_row):\n",
    "            if row[0].value == projeto:\n",
    "                # Obter a primeira e última linha do grupo no dataframe original\n",
    "                linha_inicial = grupo['Indice'].iloc[0] + 2  # Adiciona 2 para considerar o cabeçalho e a indexação baseada em 1 do Excel\n",
    "                linha_final = grupo['Indice'].iloc[-1] + 2\n",
    "\n",
    "                # Atualizar as colunas \"Linha inicial\" e \"Linha final\" na planilha \"Indice\"\n",
    "                sheet.cell(row=row[0].row, column=column_dict['Linha inicial']).value = linha_inicial\n",
    "                sheet.cell(row=row[0].row, column=column_dict['Linha final']).value = linha_final\n",
    "\n",
    "                # Atualizar a coluna \"Importado\" com \"Ok\"\n",
    "                sheet.cell(row=row[0].row, column=column_dict['Importado fundiário']).value = 'Ok'\n",
    "\n",
    "                break\n",
    "\n",
    "\n",
    "    ws = workbook['CSV']\n",
    "\n",
    "    # Limpar a aba \"CSV\" antes de inserir os novos valores\n",
    "    ws.delete_rows(2, ws.max_row)\n",
    "\n",
    "    # Criar um dicionário para mapear o nome da coluna para o número da coluna na planilha \"Indice\"\n",
    "    column_dict = {}\n",
    "    for column in ws.iter_cols(min_row=1, max_row=1):\n",
    "        for cell in column:\n",
    "            column_dict[cell.value] = cell.column\n",
    "\n",
    "    # Inserir os valores na aba \"CSV\"\n",
    "    for r_idx, row in enumerate(df.values, 2):\n",
    "        for col_name, value in zip(df.columns, row):\n",
    "            if col_name in column_dict:\n",
    "                col_idx = column_dict[col_name]\n",
    "                ws.cell(row=r_idx, column=col_idx, value=value)\n",
    "\n",
    "\n",
    "\n",
    "    # Salvar as alterações no arquivo Excel\n",
    "    workbook.save(arquivo_adds)"
   ]
  },
  {
   "cell_type": "code",
   "execution_count": null,
   "id": "72ba628f",
   "metadata": {},
   "outputs": [],
   "source": [
    "salva_adds_excel()"
   ]
  },
  {
   "attachments": {},
   "cell_type": "markdown",
   "id": "f0d7edce",
   "metadata": {
    "papermill": {
     "duration": 0.030393,
     "end_time": "2023-05-06T02:01:58.523943",
     "exception": false,
     "start_time": "2023-05-06T02:01:58.493550",
     "status": "completed"
    },
    "tags": []
   },
   "source": [
    "### Fluxo Responsavel por detectar titulos de Erro e enviar para o Criador da Solicitacao:"
   ]
  },
  {
   "attachments": {
    "Captura%20de%20tela%202023-03-23%20225650.png": {
     "image/png": "[encoded data removed]"
    }
   },
   "cell_type": "markdown",
   "id": "1378d744",
   "metadata": {
    "papermill": {
     "duration": 0.029503,
     "end_time": "2023-05-06T02:01:58.583888",
     "exception": false,
     "start_time": "2023-05-06T02:01:58.554385",
     "status": "completed"
    },
    "tags": []
   },
   "source": [
    " ![Captura%20de%20tela%202023-03-23%20225650.png](attachment:Captura%20de%20tela%202023-03-23%20225650.png)"
   ]
  },
  {
   "cell_type": "code",
   "execution_count": null,
   "id": "1e89be74",
   "metadata": {
    "execution": {
     "iopub.execute_input": "2023-05-06T02:02:08.923840Z",
     "iopub.status.busy": "2023-05-06T02:02:08.923050Z",
     "iopub.status.idle": "2023-05-06T02:02:08.925231Z",
     "shell.execute_reply": "2023-05-06T02:02:08.924843Z"
    },
    "papermill": {
     "duration": 0.046553,
     "end_time": "2023-05-06T02:02:08.925352",
     "exception": false,
     "start_time": "2023-05-06T02:02:08.878799",
     "status": "completed"
    },
    "tags": []
   },
   "outputs": [],
   "source": [
    "from arcgis.geometry.functions import *\n",
    "from arcgis.geometry import Polygon, Geometry, Point, Polyline\n",
    "from arcgis.geocoding import geocode\n",
    "from arcgis.geometry.filters import *\n",
    "import pandas as pd\n",
    "\n",
    "def retorna_interseccao(area,linhas_aeros):\n",
    "    #retorna se a area esta aprovada ou nao , ou seja, se ela esta parcialmento dentro de uma linha de aero ou nao\n",
    "    for feature_linha_aero in linhas_aeros:\n",
    "        if Polygon(feature_linha_aero.geometry).intersect(Polygon(area.geometry)).is_empty==False:\n",
    "            return 'Aprovado'\n",
    "    return 'Aguardando Aprovacao'\n",
    "\n",
    "def retorna_num_aeros(area,aeros):\n",
    "    #retorna o numero de aeros numa area\n",
    "    num_aeros=0\n",
    "    for feature_aero in aeros:\n",
    "        if (Polygon(area.geometry).contains(Point(feature_aero.geometry))):\n",
    "            num_aeros+=1\n",
    "    return num_aeros\n",
    "def retorna_posicao(lista,elemento):\n",
    "        \"\"\"\n",
    "        Retorna a posicao de um elemento em uma lista de objetos\n",
    "        \"\"\"\n",
    "        for i in range(len(lista)):\n",
    "            mapa=str(lista[i])\n",
    "            split=mapa.replace('\"','').replace(' type','').split(':')[1]\n",
    "            if(split==elemento):\n",
    "                return i\n",
    "            \n",
    "def le_info_sist_fundiario(titulo_mapa,result):\n",
    "        \"\"\"\n",
    "        Essa funcao le as informacoes para o sistema fundiario de um mapa\n",
    "        \"\"\"\n",
    "\n",
    "        #acessa o mapa do projeto\n",
    "        map_projeto = gis.content.search('title:'+titulo_mapa,'Feature Layer')\n",
    "        Projeto_item = map_projeto[retorna_posicao(map_projeto,titulo_mapa)]\n",
    "        Projeto_layers= Projeto_item.layers\n",
    "        projeto=titulo_mapa\n",
    "        for layer in Projeto_layers:\n",
    "            if(layer.properties.name == 'Aeros'):\n",
    "                    layer_fset = layer.query()\n",
    "                \n",
    "        #captura os features de cada layer\n",
    "        for layer in Projeto_layers:\n",
    "                \n",
    "            if(layer.properties.name == 'Linhas_EOL'):\n",
    "                layer_fset = layer.query()\n",
    "                all_features_linha_aeros= layer_fset.features\n",
    "            if(layer.properties.name == 'Areas'):\n",
    "                layer_fset = layer.query()\n",
    "                all_features_areas= layer_fset.features\n",
    "                \n",
    "        titulo_mapa='Molde_Projeto_GPD'        \n",
    "        #acessa o mapa do projeto\n",
    "        map_projeto = gis.content.search('title:'+titulo_mapa,'Feature Layer')\n",
    "        Projeto_item = map_projeto[retorna_posicao(map_projeto,titulo_mapa)]\n",
    "        Projeto_layers= Projeto_item.layers\n",
    "        \n",
    "        for layer in Projeto_layers:\n",
    "            if(layer.properties.name == 'Aeros'):\n",
    "                    layer_fset = layer.query()\n",
    "                    all_features_aeros= layer_fset.features\n",
    "                    \n",
    "        #baseado nas informacoes dos features, cria um dicionario com as informacoes que serao usadas para gerar o kml do sistema fundiario\n",
    "        for feature_area in all_features_areas:\n",
    "            area_code = feature_area.attributes['area_code']\n",
    "            num_aeros = retorna_num_aeros(feature_area,all_features_aeros)\n",
    "            try:\n",
    "                aprovacao = retorna_interseccao(feature_area,all_features_linha_aeros)\n",
    "            except:\n",
    "                print(area_code,\"Esta incorreta\")\n",
    "                aprovacao=''\n",
    "            if(aprovacao!=''):\n",
    "                geometria = feature_area.geometry\n",
    "                result['area_code'].append(area_code)\n",
    "                result['num_aeros'].append(num_aeros)\n",
    "                result['aprovacao'].append(aprovacao)\n",
    "                result['geometria'].append(geometria)\n",
    "                result['projeto'].append(projeto)\n",
    "\n",
    "        return result\n",
    "def cria_df_sist_fundiario(projeto,result):\n",
    "    dados=le_info_sist_fundiario(projeto,result)\n",
    "    df=pd.DataFrame.from_dict(dados)\n",
    "    df = df.rename(columns={'aprovacao': 'status', 'geometria': 'SHAPE'})\n",
    "    df.spatial.set_geometry('SHAPE', inplace=True)\n",
    "    display(df)\n",
    "    \n",
    "    return df\n",
    "def main():\n",
    "    Projetos=['JAG','MEL','VCH','SCA','BRE']\n",
    "    for projeto in Projetos:\n",
    "            info_sist_fundiario={'area_code':[],'num_aeros': [], 'aprovacao': [],'geometria': [],'projeto':[]}\n",
    "            info_sist_fundiario=cria_df_sist_fundiario(projeto,info_sist_fundiario)\n",
    "            info_sist_fundiario=reproject_sdf(info_sist_fundiario,4326)\n",
    "            path=os.path.join('/arcgis/home/BASES',projeto+'.shp')\n",
    "            print(path)\n",
    "            info_sist_fundiario.spatial.to_featureclass(location=path , overwrite=True);\n",
    "    #info_sist_fundiario.to_excel('/arcgis/home/sist_fund.xlsx', index=False)"
   ]
  },
  {
   "attachments": {},
   "cell_type": "markdown",
   "id": "c223970e",
   "metadata": {
    "papermill": {
     "duration": 0.031917,
     "end_time": "2023-05-06T02:02:08.989769",
     "exception": false,
     "start_time": "2023-05-06T02:02:08.957852",
     "status": "completed"
    },
    "tags": []
   },
   "source": [
    "## Gera os .shp e os kmls atualizados para o sist. fundiario"
   ]
  },
  {
   "attachments": {},
   "cell_type": "markdown",
   "id": "e3fbcfe9",
   "metadata": {
    "papermill": {
     "duration": 0.031389,
     "end_time": "2023-05-06T02:02:09.052348",
     "exception": false,
     "start_time": "2023-05-06T02:02:09.020959",
     "status": "completed"
    },
    "tags": []
   },
   "source": [
    "##### Cria um shapefile"
   ]
  },
  {
   "cell_type": "code",
   "execution_count": null,
   "id": "0f15ca71",
   "metadata": {},
   "outputs": [],
   "source": [
    "#Retorna o dicionario contendo as infos de todos os layers\n",
    "dict_layers=retorna_df_areas_projetos(projetos)"
   ]
  },
  {
   "cell_type": "code",
   "execution_count": 11,
   "id": "7634e6e2",
   "metadata": {},
   "outputs": [],
   "source": [
    "project_name={\n",
    "    'ESV': ['Serra das Vacas','ESV - EOL Serra das Vacas (Fase 3)'],\n",
    "    'SAL': ['Serra das Almas','SAL - EOL Serra das Almas'],\n",
    "    'SAS': ['Serra do Assuruá','SAS - EOL Serra do Assuruá'],\n",
    "    'SGA': ['Serra da Gameleira','SGA - EOL Serra da Gameleira'],\n",
    "    'SIB': ['Serra de Ibiapaba','SIB - EOL Serra de Ibiapaba'],\n",
    "    'SPA': ['Serra da Palmeira','SPA - EOL Serra da Palmeira'],\n",
    "    'SSE': ['Serra do Seridó','SSE - EOL Serra do Seridó'],\n",
    "    'SGO': ['Gouveia','SGO - EOL Gouveia'],\n",
    "    'SGW': ['Serra Geral do Oeste','SGW - EOL Serra Geral do Oeste'],\n",
    "    'BRE': ['Bom Retiro','BRE - EOL Bom Retiro'],\n",
    "    'CUN': ['Curral Novo','CUN - EOL Curral Novo'],\n",
    "    'JAG': ['Jaguarari','JAG - EOL Jaguarari'],\n",
    "    'MEL': ['Meia Lua','MEL - EOL Meia Lua'],\n",
    "    'SGE': ['Serra de Gentio do Ouro','SGE - EOL Serra de Gentio do Ouro'],\n",
    "    'SEC': ['Serra da Carneira','SEC - EOL Serra da Carneira'],\n",
    "    'SDJ': ['Serra Dom João','SDJ - EOL Serra Dom João'],\n",
    "    'STE': ['Serra de Teixeira','STE - EOL Serra do Teixeira'],\n",
    "    'SDA': ['Serra do Alegre','SDA - EOL Serra do Alegre'],\n",
    "    'SCA': ['Serra de Catolé','SCA - EOL Serra do Catolé'],\n",
    "    'TDV': ['Terra dos Ventos','TDV - EOL Terra dos Ventos'],\n",
    "    'VES': ['Ventos de Simões','VES - EOL Ventos de Simões'],\n",
    "    'VCH': ['Ventos de Velho Chico','VCH - EOL Velho Chico'],\n",
    "    'SMA': ['Serra dos Mares','SMA - EOL Serra dos Mares'],\n",
    "    'SCR': ['Serra do Croata','SCR - EOL Serra de Croatá'],\n",
    "    'STA': ['Serra da Taquara','STA - EOL Serra da Taquara'],\n",
    "    'SSV': ['Serra do Sao Vicente','SSV - EOL Serra do Sao Vicente'],\n",
    "    'SIF': ['Sistema Fundiario','SIF - EOL Sistema Fundiario']}"
   ]
  },
  {
   "attachments": {},
   "cell_type": "markdown",
   "id": "d1b7c546",
   "metadata": {},
   "source": [
    "### Cria o kmz"
   ]
  },
  {
   "cell_type": "code",
   "execution_count": null,
   "id": "0e14f438",
   "metadata": {},
   "outputs": [],
   "source": [
    "#Retorna o dicionario contendo as infos de todos os layers\n",
    "dict_layers=retorna_df_areas_projetos(projetos)"
   ]
  },
  {
   "cell_type": "code",
   "execution_count": null,
   "id": "0d4b29c7",
   "metadata": {},
   "outputs": [],
   "source": [
    "project_name={\n",
    "    'ESV': ['Serra das Vacas','ESV - EOL Serra das Vacas (Fase 3)'],\n",
    "    'SAL': ['Serra das Almas','SAL - EOL Serra das Almas'],\n",
    "    'SAS': ['Serra do Assuruá','SAS - EOL Serra do Assuruá'],\n",
    "    'SGA': ['Serra da Gameleira','SGA - EOL Serra da Gameleira'],\n",
    "    'SIB': ['Serra de Ibiapaba','SIB - EOL Serra de Ibiapaba'],\n",
    "    'SPA': ['Serra da Palmeira','SPA - EOL Serra da Palmeira'],\n",
    "    'SSE': ['Serra do Seridó','SSE - EOL Serra do Seridó'],\n",
    "    'SGO': ['Gouveia','SGO - EOL Gouveia'],\n",
    "    'SGW': ['Serra Geral do Oeste','SGW - EOL Serra Geral do Oeste'],\n",
    "    'BRE': ['Bom Retiro','BRE - EOL Bom Retiro'],\n",
    "    'CUN': ['Curral Novo','CUN - EOL Curral Novo'],\n",
    "    'JAG': ['Jaguarari','JAG - EOL Jaguarari'],\n",
    "    'MEL': ['Meia Lua','MEL - EOL Meia Lua'],\n",
    "    'SGE': ['Serra de Gentio do Ouro','SGE - EOL Serra de Gentio do Ouro'],\n",
    "    'SEC': ['Serra da Carneira','SEC - EOL Serra da Carneira'],\n",
    "    'SDJ': ['Serra Dom João','SDJ - EOL Serra Dom João'],\n",
    "    'STE': ['Serra de Teixeira','STE - EOL Serra do Teixeira'],\n",
    "    'SDA': ['Serra do Alegre','SDA - EOL Serra do Alegre'],\n",
    "    'SCA': ['Serra de Catolé','SCA - EOL Serra do Catolé'],\n",
    "    'TDV': ['Terra dos Ventos','TDV - EOL Terra dos Ventos'],\n",
    "    'VES': ['Ventos de Simões','VES - EOL Ventos de Simões'],\n",
    "    'VCH': ['Ventos de Velho Chico','VCH - EOL Velho Chico'],\n",
    "    'SMA': ['Serra dos Mares','SMA - EOL Serra dos Mares'],\n",
    "    'SCR': ['Serra do Croata','SCR - EOL Serra de Croatá'],\n",
    "    'STA': ['Serra da Taquara','STA - EOL Serra da Taquara'],\n",
    "    'SSV': ['Serra do Sao Vicente','SSV - EOL Serra do Sao Vicente'],\n",
    "    'SIF': ['Sistema Fundiario','SIF - EOL Sistema Fundiario']}"
   ]
  },
  {
   "cell_type": "code",
   "execution_count": null,
   "id": "77458d1f",
   "metadata": {},
   "outputs": [],
   "source": [
    "import time\n",
    "import json\n",
    "from arcgis.features import GeoAccessor\n",
    "nb_id='8db8ce6f647245dcbe09feb8d143d98e'\n",
    "nb_server = gis.notebook_server[0]\n",
    "notebook_item = gis.content.get(nb_id)\n",
    "notebookParameters = {\n",
    "\"project_name\": project_name,\n",
    "\"tipo\": 'Status Parcial',\n",
    "\"json_areas\":areas.to_json(orient='records'),\n",
    "\"projetos\":projetos\n",
    "}\n",
    "nb_mgr = nb_server.notebooks\n",
    "nb_result = nb_mgr.execute_notebook(notebook_item,update_portal_item=True,parameters=notebookParameters,save_parameters=False)\n",
    "print(nb_result)"
   ]
  },
  {
   "cell_type": "code",
   "execution_count": null,
   "id": "7bf2c19f",
   "metadata": {},
   "outputs": [],
   "source": [
    "from arcgis.gis.nb import NotebookManager\n",
    "for projeto in projetos:\n",
    "    areas=dict_layers[projeto]['Areas']['sdf']\n",
    "    areas=reproject_sdf(areas,4326)\n",
    "    path=os.path.join('/arcgis/home/BASES',projeto+'.shp')\n",
    "    areas = areas.reindex(columns=['area_code'] + [col for col in areas.columns if col != 'area_code'])\n",
    "    areas['Matricula'] = areas['Matricula'].fillna('')  # Preencher valores ausentes com uma string vazia\n",
    "    areas['Contrato'] = areas['Contrato'].fillna('')\n",
    "    areas['Status']= areas['Status'].fillna('')\n",
    "    areas_shp=areas[['area_code','Proprietario_principal','Imovel','Status','Matricula','ID_Creator','ID_Editor','Contrato',\"SHAPE\"]]\n",
    "    areas_shp.spatial.to_featureclass(location=path , overwrite=True);\n",
    "    print(path)"
   ]
  },
  {
   "cell_type": "code",
   "execution_count": null,
   "id": "d7e6e5f6",
   "metadata": {},
   "outputs": [],
   "source": []
  },
  {
   "attachments": {},
   "cell_type": "markdown",
   "id": "eac437cd",
   "metadata": {
    "papermill": {
     "duration": 0.030958,
     "end_time": "2023-05-06T02:03:00.424544",
     "exception": false,
     "start_time": "2023-05-06T02:03:00.393586",
     "status": "completed"
    },
    "tags": []
   },
   "source": [
    "##### Codigo que gera o kmz "
   ]
  },
  {
   "attachments": {},
   "cell_type": "markdown",
   "id": "9fc08e65",
   "metadata": {
    "papermill": {
     "duration": 0.032714,
     "end_time": "2023-05-06T02:03:02.966417",
     "exception": false,
     "start_time": "2023-05-06T02:03:02.933703",
     "status": "completed"
    },
    "tags": []
   },
   "source": [
    "######## funcionarios da topografia ainda necessitam dos shapefiles , portanto e necessario gerar os shapefiles atualizados dos projetos"
   ]
  },
  {
   "attachments": {},
   "cell_type": "markdown",
   "id": "78ed9d01",
   "metadata": {
    "papermill": {
     "duration": 0.033034,
     "end_time": "2023-05-06T02:03:03.031989",
     "exception": false,
     "start_time": "2023-05-06T02:03:02.998955",
     "status": "completed"
    },
    "tags": []
   },
   "source": [
    "#### Insere os shp , kmz e modificacoes nas pastas  do sharepoint"
   ]
  },
  {
   "attachments": {},
   "cell_type": "markdown",
   "id": "4927236e",
   "metadata": {
    "papermill": {
     "duration": 0.032635,
     "end_time": "2023-05-06T02:03:03.097330",
     "exception": false,
     "start_time": "2023-05-06T02:03:03.064695",
     "status": "completed"
    },
    "tags": []
   },
   "source": [
    "#######Atualmente ainda sera usado os planilhas GPD , portanto e necessario atualiza-las. Por isso o codigo cria o arquivo 'modificacoes na base.xlsx' na Bases Cartograficas esse arquivo sera lido por outro processo e ira inserir as modificacoes nas planilhas GPD correspondentes. Tambem e necessario os arquivos shapefiles que terao uploads na pasta do sharepoint. E por ultimo e necessario sinalizar para o formulario que as bases foram incluidas no mapa . Isso e feito atraves do upload dos arquivos zip com os ids do pedido na pasta 'Incluidos' que sinaliza pro powerautomate a conclusao de solicitacao. "
   ]
  },
  {
   "cell_type": "code",
   "execution_count": null,
   "id": "b720f030",
   "metadata": {
    "execution": {
     "iopub.execute_input": "2023-05-06T02:03:03.175423Z",
     "iopub.status.busy": "2023-05-06T02:03:03.165224Z",
     "iopub.status.idle": "2023-05-06T02:05:50.255295Z",
     "shell.execute_reply": "2023-05-06T02:05:50.254868Z"
    },
    "papermill": {
     "duration": 167.125463,
     "end_time": "2023-05-06T02:05:50.255421",
     "exception": false,
     "start_time": "2023-05-06T02:03:03.129958",
     "status": "completed"
    },
    "tags": []
   },
   "outputs": [],
   "source": [
    "from office365.sharepoint.client_context import ClientContext\n",
    "from office365.sharepoint.lists.list import List\n",
    "import os\n",
    "import time\n",
    "sharepoint_user = 'alex.matias@pecenergia.com.br'\n",
    "sharepoint_password=secrets[\"alex.matias@pecenergia.com.br\"]\n",
    "sharepoint_base_url = 'https://sites/Fundiario/'\n",
    "# Autenticar e obter a referência da lista de documentos\n",
    "ctx = ClientContext(sharepoint_base_url).with_user_credentials(sharepoint_user, sharepoint_password)\n",
    "\n",
    "def upload_file(file_path, file_name, tipo):\n",
    "    if(tipo=='Mod_GPD'):folder_in_sharepoint='/sites/Fundiario/Bases%20Cartogrficas/Modificacoes na base'\n",
    "    elif(tipo=='Bases_kmz_atualizadas'):folder_in_sharepoint='/sites/GPD/FundirioComercial/'+project_name[file_name.split('.')[0].upper()][1]\n",
    "    elif(tipo=='BASES'):folder_in_sharepoint='/sites/GPD/FundirioComercial/'+project_name[file_name.split('.')[0].upper()][1]\n",
    "    else:folder_in_sharepoint = '/sites/Fundiario/Bases%20Cartogrficas/00 -Historico de Alteracoes - Base Arcgis/Incluidos/'+tipo\n",
    "    # Ler o conteúdo do arquivo em um objeto bytes\n",
    "    with open(os.path.join(file_path,file_name), 'rb') as f:\n",
    "        file_content = f.read()\n",
    "\n",
    "    target_folder = ctx.web.get_folder_by_server_relative_url(folder_in_sharepoint)\n",
    "    name = os.path.basename(file_name)\n",
    "    if(tipo=='Mod_GPD'):name = os.path.basename(time.strftime(\"%y_%m_%d\")+'_'+file_name)\n",
    "    target_file = target_folder.upload_file(name, file_content).execute_query()\n",
    "    print(\"File has been uploaded to url: {0}\".format(target_file.serverRelativeUrl))\n",
    "    \n",
    "def delete_file(file_path, file_name, tipo):\n",
    "    if(tipo=='BASES'):folder_in_sharepoint='/sites/'+project_name[file_name.split('.')[0].upper()][1]\n",
    "    else:folder_in_sharepoint = '/sites/Nao Incluidos/'+tipo+'/'\n",
    "    # Ler o conteúdo do arquivo em um objeto bytes\n",
    "    file_to_delete = ctx.web.get_folder_by_server_relative_url(folder_in_sharepoint+file_name)    \n",
    "    file_to_delete.delete_object()\n",
    "    ctx.execute_query()\n",
    "    print(\"File has been deleted to url: {0}\".format(file_to_delete.serverRelativeUrl))\n",
    "\n",
    "def main():\n",
    "    caminho = '/arcgis/home'\n",
    "    for root, dirs, files in os.walk(caminho):\n",
    "        for file in files:\n",
    "            if('BASES'in root or 'Nao Incluidos'in root or file=='modificacoes na base.xlsm' or 'Bases_kmz_atualizadas' in root):\n",
    "                tipo=''\n",
    "                if(file=='modificacoes na base.xlsm'):tipo='Mod_GPD'\n",
    "                elif('Bases_kmz_atualizadas'in root):tipo='Bases_kmz_atualizadas'\n",
    "                elif('BASES' in root):tipo='BASES'\n",
    "                elif('Edicoes' in root ):tipo='Edicoes'\n",
    "                elif('Inclusoes'in root):tipo='Inclusoes'\n",
    "                elif('Edicoes' in root):tipo='Edicoes'\n",
    "                elif('Divisoes'in root):tipo='Divisoes'    \n",
    "                if(tipo!=''):\n",
    "                    print(file)\n",
    "                    upload_file(root,file, tipo)\n",
    "                    if('BASES' not in root and file!='excel.xlsm' ):delete_file(root, file, tipo)\n",
    "                    if(file!='excel.xlsm'):os.remove(os.path.join(root, file))\n",
    "main()"
   ]
  },
  {
   "cell_type": "code",
   "execution_count": null,
   "id": "525b4698",
   "metadata": {},
   "outputs": [],
   "source": []
  }
 ],
 "metadata": {
  "esriNotebookRuntime": {
   "notebookRuntimeName": "ArcGIS Notebook Python 3 Standard",
   "notebookRuntimeVersion": "7.0"
  },
  "kernelspec": {
   "display_name": "Python 3 (ipykernel)",
   "language": "python",
   "name": "python3"
  },
  "language_info": {
   "codemirror_mode": {
    "name": "ipython",
    "version": 3
   },
   "file_extension": ".py",
   "mimetype": "text/x-python",
   "name": "python",
   "nbconvert_exporter": "python",
   "pygments_lexer": "ipython3",
   "version": "3.9.11"
  },
  "papermill": {
   "default_parameters": {},
   "duration": 310.082531,
   "end_time": "2023-05-06T02:05:50.958772",
   "environment_variables": {},
   "exception": null,
   "input_path": "/arcgis/home/.tasks/19fba4dc249b43b591052750aa6da35f/25aafab0d51d492fa2127d63891734cd.ipynb",
   "output_path": "/arcgis/home/.tasks/19fba4dc249b43b591052750aa6da35f/output.ipynb",
   "start_time": "2023-05-06T02:00:40.876241",
   "version": "2.3.3"
  }
 },
 "nbformat": 4,
 "nbformat_minor": 5
}
