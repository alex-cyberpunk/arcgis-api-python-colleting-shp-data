{
 "cells": [
  {
   "cell_type": "markdown",
   "id": "607cab6b",
   "metadata": {
    "papermill": {
     "duration": 0.010802,
     "end_time": "2023-08-24T13:33:41.288240",
     "exception": false,
     "start_time": "2023-08-24T13:33:41.277438",
     "status": "completed"
    },
    "tags": []
   },
   "source": [
    "## Gera  kmls separados por status"
   ]
  },
  {
   "cell_type": "markdown",
   "id": "5e50f376",
   "metadata": {
    "papermill": {
     "duration": 0.006573,
     "end_time": "2023-08-24T13:33:41.301510",
     "exception": false,
     "start_time": "2023-08-24T13:33:41.294937",
     "status": "completed"
    },
    "tags": []
   },
   "source": [
    "#### Parametros de teste"
   ]
  },
  {
   "cell_type": "code",
   "execution_count": null,
   "id": "50a78385",
   "metadata": {
    "execution": {
     "iopub.execute_input": "2023-08-24T13:33:41.381585Z",
     "iopub.status.busy": "2023-08-24T13:33:41.381110Z",
     "iopub.status.idle": "2023-08-24T13:33:41.384808Z",
     "shell.execute_reply": "2023-08-24T13:33:41.384054Z"
    },
    "papermill": {
     "duration": 0.012555,
     "end_time": "2023-08-24T13:33:41.386284",
     "exception": false,
     "start_time": "2023-08-24T13:33:41.373729",
     "status": "completed"
    },
    "tags": []
   },
   "outputs": [],
   "source": [
    "gera_shp=True"
   ]
  },
  {
   "cell_type": "code",
   "execution_count": null,
   "id": "f4aff5c0",
   "metadata": {
    "execution": {
     "iopub.execute_input": "2023-08-24T13:33:41.400510Z",
     "iopub.status.busy": "2023-08-24T13:33:41.399982Z",
     "iopub.status.idle": "2023-08-24T13:33:41.403876Z",
     "shell.execute_reply": "2023-08-24T13:33:41.403054Z"
    },
    "papermill": {
     "duration": 0.013,
     "end_time": "2023-08-24T13:33:41.405428",
     "exception": false,
     "start_time": "2023-08-24T13:33:41.392428",
     "status": "completed"
    },
    "tags": []
   },
   "outputs": [],
   "source": [
    "tipo='Status GPD'\n",
    "tipo='Status Parcial'"
   ]
  },
  {
   "cell_type": "markdown",
   "id": "4fd761b4",
   "metadata": {
    "papermill": {
     "duration": 0.006768,
     "end_time": "2023-08-24T13:33:41.418632",
     "exception": false,
     "start_time": "2023-08-24T13:33:41.411864",
     "status": "completed"
    },
    "tags": [
     "parameters"
    ]
   },
   "source": [
    "#### Gera kml"
   ]
  },
  {
   "cell_type": "code",
   "execution_count": null,
   "id": "ad300232",
   "metadata": {
    "execution": {
     "iopub.execute_input": "2023-08-24T13:33:41.454217Z",
     "iopub.status.busy": "2023-08-24T13:33:41.453479Z",
     "iopub.status.idle": "2023-08-24T13:33:43.271356Z",
     "shell.execute_reply": "2023-08-24T13:33:43.270231Z"
    },
    "papermill": {
     "duration": 1.827455,
     "end_time": "2023-08-24T13:33:43.273462",
     "exception": false,
     "start_time": "2023-08-24T13:33:41.446007",
     "status": "completed"
    },
    "tags": []
   },
   "outputs": [],
   "source": [
    "from arcgis.gis import GIS\n",
    "gis = GIS(\"home\")"
   ]
  },
  {
   "cell_type": "code",
   "execution_count": null,
   "id": "af684127",
   "metadata": {
    "execution": {
     "iopub.execute_input": "2023-08-24T13:33:43.289131Z",
     "iopub.status.busy": "2023-08-24T13:33:43.288356Z",
     "iopub.status.idle": "2023-08-24T13:33:43.294506Z",
     "shell.execute_reply": "2023-08-24T13:33:43.293731Z"
    },
    "papermill": {
     "duration": 0.01612,
     "end_time": "2023-08-24T13:33:43.296751",
     "exception": false,
     "start_time": "2023-08-24T13:33:43.280631",
     "status": "completed"
    },
    "tags": []
   },
   "outputs": [],
   "source": [
    "def retorna_posicao(lista,elemento):\n",
    "    \"\"\"\n",
    "    Retorna a posicao de um elemento em uma lista de objetos\n",
    "    \"\"\"\n",
    "    for i in range(len(lista)):\n",
    "        mapa=str(lista[i])\n",
    "        split=mapa.replace('\"','').replace(' type','').split(':')[1]\n",
    "        if(split==elemento):\n",
    "            return i "
   ]
  },
  {
   "cell_type": "code",
   "execution_count": null,
   "id": "590e7b0b",
   "metadata": {
    "execution": {
     "iopub.execute_input": "2023-08-24T13:33:43.318045Z",
     "iopub.status.busy": "2023-08-24T13:33:43.317461Z",
     "iopub.status.idle": "2023-08-24T13:33:43.322678Z",
     "shell.execute_reply": "2023-08-24T13:33:43.321862Z"
    },
    "papermill": {
     "duration": 0.017683,
     "end_time": "2023-08-24T13:33:43.324230",
     "exception": false,
     "start_time": "2023-08-24T13:33:43.306547",
     "status": "completed"
    },
    "tags": []
   },
   "outputs": [],
   "source": [
    "def retorna_df_areas_projetos(projetos):\n",
    "    dict_layer = {}\n",
    "    for projeto in projetos:\n",
    "        map_projeto = gis.content.search('title:' + projeto, 'Feature Layer')\n",
    "        Projeto_item = map_projeto[retorna_posicao(map_projeto, projeto)]\n",
    "        Projeto_layers = Projeto_item.layers\n",
    "        Projeto_tables = Projeto_item.tables\n",
    "        dict_layer[projeto]={}\n",
    "        for layer in Projeto_layers:\n",
    "            lyr_fset = layer.query()\n",
    "            lyr_sdf = lyr_fset.sdf\n",
    "            dict_layer[projeto][layer.properties.name]={'sublayer': layer, 'sdf': lyr_sdf}\n",
    "    return dict_layer"
   ]
  },
  {
   "cell_type": "code",
   "execution_count": null,
   "id": "3928b1cb",
   "metadata": {
    "execution": {
     "iopub.execute_input": "2023-08-24T13:33:43.338740Z",
     "iopub.status.busy": "2023-08-24T13:33:43.338269Z",
     "iopub.status.idle": "2023-08-24T13:33:43.344679Z",
     "shell.execute_reply": "2023-08-24T13:33:43.343932Z"
    },
    "papermill": {
     "duration": 0.015253,
     "end_time": "2023-08-24T13:33:43.346228",
     "exception": false,
     "start_time": "2023-08-24T13:33:43.330975",
     "status": "completed"
    },
    "tags": []
   },
   "outputs": [],
   "source": [
    "from arcgis.geometry import lengths, areas_and_lengths, project\n",
    "import pandas as pd\n",
    "def reproject_sdf(sdf,epsg):\n",
    "    if(epsg==3857):\n",
    "        out_SR={'wkid': 102100, 'latestWkid': 3857}\n",
    "    if(epsg==4326):\n",
    "        out_SR={'wkid': 4326}\n",
    "    result = project(\n",
    "        geometries=list(sdf['SHAPE']),\n",
    "        in_sr=sdf.spatial.sr,\n",
    "        out_sr=out_SR\n",
    "    )\n",
    "\n",
    "    sdf_reprojetado = pd.DataFrame(columns=sdf.columns)\n",
    "\n",
    "    for col in list(sdf):\n",
    "        if col != \"SHAPE\":\n",
    "            sdf_reprojetado.loc[:, col] = sdf[col].values\n",
    "\n",
    "    for i, row in sdf_reprojetado.iterrows():\n",
    "        sdf_reprojetado.at[i, 'SHAPE']  = result[i]\n",
    "        \n",
    "    # Define a coluna \"SHAPE\" como coluna espacial do DataFrame\n",
    "    sdf_reprojetado.spatial.set_geometry('SHAPE', inplace=True)\n",
    "    return sdf_reprojetado"
   ]
  },
  {
   "cell_type": "code",
   "execution_count": null,
   "id": "b6993928",
   "metadata": {
    "execution": {
     "iopub.execute_input": "2023-08-24T13:33:43.367693Z",
     "iopub.status.busy": "2023-08-24T13:33:43.366968Z",
     "iopub.status.idle": "2023-08-24T13:33:52.329192Z",
     "shell.execute_reply": "2023-08-24T13:33:52.328270Z"
    },
    "papermill": {
     "duration": 8.976377,
     "end_time": "2023-08-24T13:33:52.332032",
     "exception": false,
     "start_time": "2023-08-24T13:33:43.355655",
     "status": "completed"
    },
    "tags": []
   },
   "outputs": [],
   "source": [
    "#Retorna o dicionario contendo as infos de todos os layers\n",
    "dict_layers=retorna_df_areas_projetos(projetos)"
   ]
  },
  {
   "cell_type": "markdown",
   "id": "460e7b20",
   "metadata": {
    "papermill": {
     "duration": 0.00668,
     "end_time": "2023-08-24T13:33:52.346764",
     "exception": false,
     "start_time": "2023-08-24T13:33:52.340084",
     "status": "completed"
    },
    "tags": []
   },
   "source": [
    "### Funcoes de atuacao nos mapas"
   ]
  },
  {
   "cell_type": "markdown",
   "id": "d120f747",
   "metadata": {
    "papermill": {
     "duration": 0.006584,
     "end_time": "2023-08-24T13:33:52.359755",
     "exception": false,
     "start_time": "2023-08-24T13:33:52.353171",
     "status": "completed"
    },
    "tags": []
   },
   "source": [
    "#### Funcoes para fazer o XML"
   ]
  },
  {
   "cell_type": "code",
   "execution_count": null,
   "id": "a882f69d",
   "metadata": {
    "execution": {
     "iopub.execute_input": "2023-08-24T13:33:52.374945Z",
     "iopub.status.busy": "2023-08-24T13:33:52.374435Z",
     "iopub.status.idle": "2023-08-24T13:33:52.442089Z",
     "shell.execute_reply": "2023-08-24T13:33:52.441332Z"
    },
    "papermill": {
     "duration": 0.077881,
     "end_time": "2023-08-24T13:33:52.444011",
     "exception": false,
     "start_time": "2023-08-24T13:33:52.366130",
     "status": "completed"
    },
    "tags": []
   },
   "outputs": [],
   "source": [
    "from cmath import nan\n",
    "import pandas as pd\n",
    "import lxml.etree as ET\n",
    "from lxml.builder import ElementMaker\n",
    "from xml.dom import minidom\n",
    "import xlrd \n",
    "import math\n",
    "import time\n",
    "import locale\n",
    "import os \n",
    "\n",
    "def makeSimpleFieldSchema(name, text):\n",
    "        simplefield = ET.Element('SimpleField')\n",
    "        simplefield.set('type', 'string')\n",
    "        simplefield.set('name', name)\n",
    "        ET.SubElement(simplefield, 'displayName').text = text\n",
    "        return simplefield\n",
    "# Cria a legenda com o link fixo\n",
    "def makeLegenda():\n",
    "    return ET.fromstring('<ScreenOverlay><name>LEGENDA</name><open>1</open><Icon><href>https://i.ibb.co/DLTttZg/Legenda-v2.png</href></Icon><overlayXY x=\"0\" y=\"0\" xunits=\"fraction\" yunits=\"fraction\"/><screenXY x=\"30\" y=\"50\" xunits=\"pixels\" yunits=\"pixels\"/><rotationXY x=\"0.5\" y=\"0.5\" xunits=\"fraction\" yunits=\"fraction\"/><size x=\"0\" y=\"0\" xunits=\"pixels\" yunits=\"pixels\"/></ScreenOverlay>')\n",
    "\n",
    "# Cria uma pasta\n",
    "def makeFolder(folderName):\n",
    "    folder = ET.Element('Folder')\n",
    "    name = ET.SubElement(folder, 'name').text = folderName\n",
    "    return folder\n",
    "\n",
    "#modifica as coordenadas para ficar no padrao que seja aceitado pelo kml\n",
    "def normalizeCoords(coords):\n",
    "    coords = coords.strip('[]')\n",
    "    coords = coords.split(\",\")\n",
    "    final = []\n",
    "    for i in range(0, len(coords), 2):\n",
    "        final.append(coords[i].strip(' ()') + \",\" + coords[i+1].strip(' ()')+\",0\")\n",
    "    s = \"\\n\"\n",
    "    return s.join(final)\n"
   ]
  },
  {
   "cell_type": "code",
   "execution_count": null,
   "id": "0bb1120a",
   "metadata": {
    "execution": {
     "iopub.execute_input": "2023-08-24T13:33:52.459200Z",
     "iopub.status.busy": "2023-08-24T13:33:52.458763Z",
     "iopub.status.idle": "2023-08-24T13:33:52.468348Z",
     "shell.execute_reply": "2023-08-24T13:33:52.467545Z"
    },
    "papermill": {
     "duration": 0.018804,
     "end_time": "2023-08-24T13:33:52.469881",
     "exception": false,
     "start_time": "2023-08-24T13:33:52.451077",
     "status": "completed"
    },
    "tags": []
   },
   "outputs": [],
   "source": [
    "# Cria os estilos (ballão, cores de linha e cor do poligono)\n",
    "def makeStyle(idStyle, lineStyleSpecs, polyStyle):\n",
    "    style = ET.Element('Style')\n",
    "    style.set('id', idStyle)\n",
    "    BalloonStyle = ET.SubElement(style, 'BalloonStyle')\n",
    "    text = ET.SubElement(BalloonStyle, 'text')\n",
    "    \n",
    "    #Monta mtl_template com as colunas desejadas\n",
    "    html_template = '<table border=\"0\">'\n",
    "    for label, key,column in dicionario:\n",
    "        html_template += f'<tr><td><b>{label}</b></td><td>$[teste/{key}]</td></tr>'\n",
    "    html_template += '</table>'\n",
    "    text.text = ET.CDATA(html_template)\n",
    "    \n",
    "    linestyle = ET.SubElement(style, 'LineStyle')\n",
    "    if lineStyleSpecs['width'] != None:\n",
    "        ET.SubElement(linestyle, 'width').text = lineStyleSpecs['width']\n",
    "    if lineStyleSpecs['color'] != None:\n",
    "        ET.SubElement(linestyle, 'color').text = lineStyleSpecs['color']\n",
    "    polystyle = ET.SubElement(style, 'PolyStyle')\n",
    "    ET.SubElement(polystyle, 'color').text = polyStyle['color']\n",
    "    return style\n",
    "\n",
    "# Cria a marcação do poligono com os dados e estilo\n",
    "def makePlacemark (dados, style):\n",
    "    placemark = ET.Element('Placemark')\n",
    "    ET.SubElement(placemark, 'name').text = dados[\"# Área\"]\n",
    "    ET.SubElement(placemark, 'styleUrl').text = '#'+style\n",
    "    extendedData = ET.SubElement(placemark, 'ExtendedData')\n",
    "    schemaData = ET.SubElement(extendedData, 'SchemaData')\n",
    "    schemaData.set('schemaUrl', '#S_teste_SSSSSD')\n",
    "    \n",
    "    simpledata = ET.SubElement(schemaData, 'SimpleData')\n",
    "    for label, key,column in dicionario:\n",
    "        if(column!=''):\n",
    "            simpledata.set('name', key)\n",
    "            simpledata.text = str(dados[column]) if str(dados[column]) != 'nan' else \"\"\n",
    "            simpledata = ET.SubElement(schemaData, 'SimpleData')\n",
    "    \n",
    "    polygon = ET.SubElement(placemark, 'Polygon')\n",
    "    outerboundaryis = ET.SubElement(polygon, 'outerBoundaryIs')\n",
    "    lineraring = ET.SubElement(outerboundaryis, \"LinearRing\")\n",
    "    coordinates = ET.SubElement(lineraring, 'coordinates')\n",
    "    coordinates.text = normalizeCoords(str(dados['Coordenadas']))\n",
    "\n",
    "    return placemark"
   ]
  },
  {
   "cell_type": "markdown",
   "id": "c2edc911",
   "metadata": {
    "papermill": {
     "duration": 0.006441,
     "end_time": "2023-08-24T13:33:52.483309",
     "exception": false,
     "start_time": "2023-08-24T13:33:52.476868",
     "status": "completed"
    },
    "tags": []
   },
   "source": [
    "### Variaveis"
   ]
  },
  {
   "cell_type": "markdown",
   "id": "f6ef71ea",
   "metadata": {
    "papermill": {
     "duration": 0.006279,
     "end_time": "2023-08-24T13:33:52.495783",
     "exception": false,
     "start_time": "2023-08-24T13:33:52.489504",
     "status": "completed"
    },
    "tags": []
   },
   "source": [
    "#### funcoes mutaveis"
   ]
  },
  {
   "cell_type": "markdown",
   "id": "6ff35be3",
   "metadata": {
    "papermill": {
     "duration": 0.006288,
     "end_time": "2023-08-24T13:33:52.508224",
     "exception": false,
     "start_time": "2023-08-24T13:33:52.501936",
     "status": "completed"
    },
    "tags": []
   },
   "source": [
    "### Trabalho com dataframe"
   ]
  },
  {
   "cell_type": "code",
   "execution_count": null,
   "id": "6d427b1d",
   "metadata": {
    "execution": {
     "iopub.execute_input": "2023-08-24T13:33:52.523230Z",
     "iopub.status.busy": "2023-08-24T13:33:52.522545Z",
     "iopub.status.idle": "2023-08-24T13:33:52.527279Z",
     "shell.execute_reply": "2023-08-24T13:33:52.526351Z"
    },
    "papermill": {
     "duration": 0.013964,
     "end_time": "2023-08-24T13:33:52.528859",
     "exception": false,
     "start_time": "2023-08-24T13:33:52.514895",
     "status": "completed"
    },
    "tags": []
   },
   "outputs": [],
   "source": [
    "   dicionario = [\n",
    "    ('Área', 'AREA','# Área'),\n",
    "    ('Proprietário', 'PROPRIETARIO','Proprietario_principal'),\n",
    "    ('Matrícula', 'MATRICULA','Matricula'),\n",
    "    ('Contrato', 'CONTRATO','Contrato'),\n",
    "    ('Area (ha)', 'AREA_UTM','Área (ha) - matrícula'),\n",
    "    ('Nome Imovel', 'NOME_IMOVEL','Imovel'),\n",
    "     ('Status','STATUS','Status')  \n",
    "    ]"
   ]
  },
  {
   "cell_type": "code",
   "execution_count": null,
   "id": "cb2043d9",
   "metadata": {
    "execution": {
     "iopub.execute_input": "2023-08-24T13:33:52.543824Z",
     "iopub.status.busy": "2023-08-24T13:33:52.543359Z",
     "iopub.status.idle": "2023-08-24T13:33:52.547654Z",
     "shell.execute_reply": "2023-08-24T13:33:52.546808Z"
    },
    "papermill": {
     "duration": 0.013251,
     "end_time": "2023-08-24T13:33:52.549150",
     "exception": false,
     "start_time": "2023-08-24T13:33:52.535899",
     "status": "completed"
    },
    "tags": []
   },
   "outputs": [],
   "source": [
    "def coordenadas(pontos_arcgis):\n",
    "    # Extrair as coordenadas dos pontos\n",
    "    coordenadas = pontos_arcgis['rings'][0]\n",
    "    # Criar a lista de tuplas no formato do shapefile.Reader\n",
    "    pontos_shapefile = [(coord[0], coord[1]) for coord in coordenadas]\n",
    "\n",
    "    return pontos_shapefile"
   ]
  },
  {
   "attachments": {
    "image.png": {
     "image/png": "[encoded data removed]"
    }
   },
   "cell_type": "markdown",
   "id": "36edd019",
   "metadata": {
    "papermill": {
     "duration": 0.006506,
     "end_time": "2023-08-24T13:33:52.562138",
     "exception": false,
     "start_time": "2023-08-24T13:33:52.555632",
     "status": "completed"
    },
    "tags": []
   },
   "source": [
    " -O formato esperado pra montar as pastas e subpastas e um formato hierarquico onde o numero na coluna revela a pasta e subpasta daquele item , veja o exemplo abaixo:\n",
    "![image.png](attachment:image.png)\n",
    " -Dessa forma e necessario transformar o dataframe nesse molde com o molde de coodenadas no formato [(x1,y1),(x2,y2)...] \n",
    " -E preciso montar um dict de estilos de tuple onde o tuple contem o nome das pastas e subpastas e o element,idcolor... contem os itens da pasta de nivel mais alto"
   ]
  },
  {
   "cell_type": "code",
   "execution_count": null,
   "id": "6f652508",
   "metadata": {
    "execution": {
     "iopub.execute_input": "2023-08-24T13:33:52.576600Z",
     "iopub.status.busy": "2023-08-24T13:33:52.576274Z",
     "iopub.status.idle": "2023-08-24T13:33:52.586546Z",
     "shell.execute_reply": "2023-08-24T13:33:52.585694Z"
    },
    "papermill": {
     "duration": 0.019703,
     "end_time": "2023-08-24T13:33:52.588197",
     "exception": false,
     "start_time": "2023-08-24T13:33:52.568494",
     "status": "completed"
    },
    "tags": []
   },
   "outputs": [],
   "source": [
    "dict_makestyle=[{'name': \"CONCORRENTES\", 'idColor':None, 'colors':{'lineStyle':{'width': '2', 'color': \"ffffffff\"}, 'polyStyle':{'color':'660d00fc'},'element': []}},\n",
    "{'name': \"SUJEITA À DISTRATO\", 'idColor':None, 'colors':{'lineStyle':{'width': '2', 'color': \"ff00ffff\"}, 'polyStyle':{'color':'99898988'}},'element': []},\n",
    "{'name': \"DISTRATADA\", 'idColor':None, 'colors':{'lineStyle':{'width': '2', 'color': \"ffffffff\"}, 'polyStyle':{'color':'66000000'}},'element': []},\n",
    "{'name': \"MAPEADO SEM DOCUMENTOS\", 'idColor':None, 'colors':{'lineStyle':{'width': '2', 'color': \"ffffffff\"}, 'polyStyle':{'color':'6600ffff'}},'element': []},\n",
    "{'name': \"MAPEADO COM DOCUMENTOS\", 'idColor':None, 'colors':{'lineStyle':{'width': '2', 'color': \"ffffffff\"}, 'polyStyle':{'color':'660055ff'}},'element': []},\n",
    "{'name': \"ÁREAS CTG\", 'idColor':None, 'colors':{'lineStyle':{'width': '2', 'color': \"ffffffff\"}, 'polyStyle':{'color':'ccffffff'}},'element': []},\n",
    "{'name': \"CONTRATADO SEM MATRÍCULA\", 'idColor':None, 'colors':{'lineStyle':{'width': '2', 'color': \"ffffffff\"}, 'polyStyle':{'color':'66ffff00'}},'element': []},\n",
    "{'name': \"PROTOCOLADO CORREDOR DE VENTOS\", 'idColor':None, 'colors':{'lineStyle':{'width': '2', 'color': \"ffffffff\"}, 'polyStyle':{'color':'66ffcf30'}},'element': []},\n",
    "{'name': \"CONTRATADO COM MATRÍCULA EM NOME DE 3º\", 'idColor':None, 'colors':{'lineStyle':{'width': '2', 'color': \"ffffffff\"}, 'polyStyle':{'color':'66ffa855'}},'element': []},\n",
    "{'name': \"CONTRATADO COM MATRÍCULA EM NOME DO PROPRIETÁRIO\", 'idColor':None, 'colors':{'lineStyle':{'width': '2', 'color': \"ffffffff\"}, 'polyStyle':{'color':'66ff0000'}},'element': []},\n",
    "{'name': \"CONTRATADO COM MATRÍCULA E COM GEO INCRA\", 'idColor':None, 'colors':{'lineStyle':{'width': '2', 'color': \"ffffffff\"}, 'polyStyle':{'color':'66ff00aa'}},'element': []},\n",
    "{'name': \"CONTRATADO COM MATRÍCULA RETIFICADA E COM GEO INCRA\", 'idColor':None, 'colors':{'lineStyle':{'width': '2', 'color': \"ffffffff\"}, 'polyStyle':{'color':'667f00aa'}},'element': []},\n",
    "{'name': \"REGULARIZADO\", 'idColor':None, 'colors':{'lineStyle':{'width': '2', 'color': 'ffffffff'}, 'polyStyle':{'color':'6600aa00'}},'element': []},\n",
    "{'name': \"REGULARIZADO PADRÃO INTERNACIONAL\", 'idColor':None, 'colors':{'lineStyle':{'width': '2', 'color': 'ffffffff'}, 'polyStyle':{'color':'6600aa00'}},'element': []},\n",
    "{'name': 'APROVADO', 'idColor': None, 'colors': {'lineStyle': {'width': '2', 'color': 'ffffffff'}, 'polyStyle': {'color': '6600aa00'}}, 'element': []},\n",
    "{'name': 'DESAPROVADO','idColor': None, 'colors': {'lineStyle': {'width': '2', 'color': 'ffffffff'}, 'polyStyle': {'color': '66ff0000'}},'element': []}]\n"
   ]
  },
  {
   "cell_type": "markdown",
   "id": "c40b6751",
   "metadata": {
    "papermill": {
     "duration": 0.006464,
     "end_time": "2023-08-24T13:33:52.600980",
     "exception": false,
     "start_time": "2023-08-24T13:33:52.594516",
     "status": "completed"
    },
    "tags": []
   },
   "source": [
    "O formato de dict usado em style , pra criar os folders/subfolders e para fazer o Placemark deve ser feito no formato:\n",
    "dict[item] , onde:\n",
    "item = {'name': '','idColor': None, 'colors': {'lineStyle': {'width': '', 'color': ''}, 'polyStyle': {'color': ''}},'element': [] (vazio)}\n",
    "\n",
    "'name':nome do item ,geralmente nome da pasta principal  \n",
    "\n",
    "'idColor':Para identificar em relacao ao makeStyle\n",
    "\n",
    "'colors': cor do poligono 'polyStyle' e cor da linha 'lineStyle', geralmente dada pela pasta mas pode ser definidas por subpastas tambem\n",
    "\n",
    "'element': defult vazio , serve para capturar os elements de placemark , folder .... e inserir no XML\n"
   ]
  },
  {
   "cell_type": "code",
   "execution_count": null,
   "id": "f7a34df6",
   "metadata": {
    "execution": {
     "iopub.execute_input": "2023-08-24T13:33:52.615540Z",
     "iopub.status.busy": "2023-08-24T13:33:52.614757Z",
     "iopub.status.idle": "2023-08-24T13:33:52.622963Z",
     "shell.execute_reply": "2023-08-24T13:33:52.622043Z"
    },
    "papermill": {
     "duration": 0.01736,
     "end_time": "2023-08-24T13:33:52.624527",
     "exception": false,
     "start_time": "2023-08-24T13:33:52.607167",
     "status": "completed"
    },
    "tags": []
   },
   "outputs": [],
   "source": [
    "def retorna_dict_style(dict_makestyle,df):\n",
    "    col_dict = {}\n",
    "    for item in dict_makestyle:\n",
    "        name = item['name']\n",
    "        if name in df.columns:\n",
    "                col_dict[(name,)] = {'name': item['name'] , 'idColor':  item['name'], 'colors': item['colors'],'element':[]}\n",
    "            \n",
    "    for index, row in df.iterrows():\n",
    "        possui_topografia = row['SEM TOPOGRAFIA']\n",
    "        concorrente=row['Concorrente_contratante']\n",
    "        if isinstance(possui_topografia, (int, float)):\n",
    "            (principal_folder,coluna)=(row['Status'],row['Status']) if row['Status']!='' else (row['Concorrente_contratante'],'CONCORRENTES')\n",
    "            if(coluna!='CONCORRENTES'):\n",
    "                col_dict[(principal_folder , 'SEM TOPOGRAFIA')] = {'name': principal_folder + '_sem_topo', 'idColor': principal_folder + '_sem_topo','colors': {'lineStyle':{'width':'2', 'color': 'FF000000'},'polyStyle':col_dict[(coluna,)]['colors']['polyStyle']},'element':[]}\n",
    "            else:\n",
    "                col_dict[(\"CONCORRENTES\",principal_folder , 'SEM TOPOGRAFIA')] = {'name': principal_folder + '_sem_topo', 'idColor': principal_folder + '_sem_topo','colors': {'lineStyle':{'width':'2', 'color': 'FF000000'},'polyStyle':col_dict[(coluna,)]['colors']['polyStyle']},'element':[]}\n",
    "\n",
    "        if isinstance(concorrente, str) and concorrente!='':\n",
    "            col_dict[(\"CONCORRENTES\",concorrente)] = {'name': concorrente , 'idColor': concorrente,'colors': {'lineStyle':col_dict[(\"CONCORRENTES\",)]['colors']['lineStyle'],'polyStyle':col_dict[(\"CONCORRENTES\",)]['colors']['polyStyle']},'element':[]}\n",
    "\n",
    "\n",
    "    # Imprimir o novo dicionário\n",
    "    return col_dict"
   ]
  },
  {
   "cell_type": "code",
   "execution_count": null,
   "id": "26bed97e",
   "metadata": {
    "execution": {
     "iopub.execute_input": "2023-08-24T13:33:52.640062Z",
     "iopub.status.busy": "2023-08-24T13:33:52.639614Z",
     "iopub.status.idle": "2023-08-24T13:33:52.650561Z",
     "shell.execute_reply": "2023-08-24T13:33:52.649858Z"
    },
    "papermill": {
     "duration": 0.020853,
     "end_time": "2023-08-24T13:33:52.652226",
     "exception": false,
     "start_time": "2023-08-24T13:33:52.631373",
     "status": "completed"
    },
    "tags": []
   },
   "outputs": [],
   "source": [
    "def cria_kmz(df,codigo_projeto,path_kmz):\n",
    "    # Cria cabeçalho de especificação KML\n",
    "    orig_xml = '<kml xmlns=\"http://www.opengis.net/kml/2.2\" xmlns:gx=\"http://www.google.com/kml/ext/2.2\" xmlns:kml=\"http://www.opengis.net/kml/2.2\" xmlns:atom=\"http://www.w3.org/2005/Atom\"></kml>'\n",
    "    kml = ET.fromstring(orig_xml)\n",
    "\n",
    "    # Cria root e configurações basicas do documento \n",
    "    document = ET.SubElement(kml, \"Document\")\n",
    "    ET.SubElement(document, \"name\").text = projeto\n",
    "    ET.SubElement(document, \"open\").text = \"1\"\n",
    "\n",
    "    # Cria o SCHEMA do Balão\n",
    "    schema = ET.SubElement(document, 'Schema')\n",
    "    schema.set('name', 'teste')\n",
    "    schema.set('id', 'S_teste_SSSSSD')\n",
    "   \n",
    "    \n",
    "    #cria schema de label \n",
    "    for label, key,column in dicionario:\n",
    "        schema.append(makeSimpleFieldSchema(label,\"&lt;b&gt;\" + label+ \"&lt;/b&gt;\"))\n",
    "   \n",
    "    #Cria o estilo no document\n",
    "    dict_estilo=retorna_dict_style(dict_makestyle,areas)\n",
    "    for item in dict_estilo.items():\n",
    "        key, value = item\n",
    "        idColor = value['idColor']\n",
    "        estilo_linha=value['colors']['lineStyle']\n",
    "        estilo_poligono=value['colors']['polyStyle']\n",
    "        document.append(makeStyle(idColor, estilo_linha, estilo_poligono)),\n",
    "        \n",
    "        #Faz a pasta de nivel mais alto no dict , ou seu o ultimo nivel de subpasta\n",
    "        folder=makeFolder(key[len(key)-1])\n",
    "        dict_estilo[key]['element']=folder\n",
    "    #print(dict_estilo)\n",
    "    #Organiza o dict conforme o tamanho do tuple\n",
    "    dict_folders = dict(sorted(dict_estilo.items(), key=lambda x: len(x[0])))\n",
    "    #print(dict_folders)\n",
    "    #iterage linha a linha e captura o tuple correspondente na chave\n",
    "    for chave in dict_folders.keys():\n",
    "        if(len(chave)==1 and chave[0]!='CONCORRENTES'): #conconrrentes e usado pra pasta posteriormente , isso evitara duplicidade\n",
    "            data = df[df[chave[0]].notna()].to_dict('index')\n",
    "            for row in data:\n",
    "                #if(data[row]['# Área']=='PROP-VCH-0067'):\n",
    "                #print(chave)\n",
    "                    numeric_dict = {key: value for key, value in data[row].items() if isinstance(value, (int, float)) and not np.isnan(value)}\n",
    "                    positional_list = tuple(sorted(numeric_dict, key=numeric_dict.get))\n",
    "                    estilo = dict_folders.get(positional_list)\n",
    "                    placemark=makePlacemark(data[row], estilo['idColor'])\n",
    "                    dict_folders[positional_list]['element'].append(placemark)\n",
    "                \n",
    "    #faz o append de subpastas nas pastas acima delas com os elements correspondentes\n",
    "    for chave in dict_folders.keys():\n",
    "        if(len(chave)>1):\n",
    "            dict_estilo[chave[:-1]]['element'].append(dict_estilo[chave]['element'])\n",
    "            \n",
    "    #faz o append de element de cada dict no documento            \n",
    "    for chave in dict_folders.keys():\n",
    "        if(len(chave)==1):\n",
    "            document.append(dict_estilo[chave]['element'])\n",
    "    # salva o arquivo kmz de acordo com o nome do arquivo de entrada e a data de hoje\n",
    "    tree = ET.ElementTree(kml)\n",
    "    tree.write(path_kmz)\n",
    "\n",
    "    print('Arquivo gerado com sucesso!')\n",
    "    print(path_kmz)"
   ]
  },
  {
   "cell_type": "code",
   "execution_count": null,
   "id": "ec13dc68",
   "metadata": {
    "execution": {
     "iopub.execute_input": "2023-08-24T13:33:52.667348Z",
     "iopub.status.busy": "2023-08-24T13:33:52.666782Z",
     "iopub.status.idle": "2023-08-24T13:33:52.676005Z",
     "shell.execute_reply": "2023-08-24T13:33:52.675149Z"
    },
    "papermill": {
     "duration": 0.018656,
     "end_time": "2023-08-24T13:33:52.677593",
     "exception": false,
     "start_time": "2023-08-24T13:33:52.658937",
     "status": "completed"
    },
    "tags": []
   },
   "outputs": [],
   "source": [
    "import numpy as np\n",
    "\n",
    "def organiza_dados(areas):\n",
    "    import warnings\n",
    "\n",
    "    # Ignorar todos os avisos do pandas\n",
    "    warnings.filterwarnings(\"ignore\")\n",
    "\n",
    "    areas=areas[['area_code','Proprietario_principal','Imovel','Status','Matricula','ID_Creator','ID_Editor','Contrato','Possui_topografia','Concorrente_contratante',\"SHAPE\"]]\n",
    "    areas['SHAPE'] = areas['SHAPE'].apply(lambda x: coordenadas(x))\n",
    "    areas['Área (ha) - matrícula']= [np.nan]*len(areas)\n",
    "    \n",
    "\n",
    "    # Converter valores da coluna 'status' para letras maiúsculas\n",
    "    areas.loc[:,'Status'] = areas['Status'].str.upper()\n",
    "\n",
    "    # Obter lista de valores únicos da coluna 'status'\n",
    "    status_unique = areas['Status'].drop_duplicates().tolist()\n",
    "    \n",
    "    #concorrentes_unique = list(filter(lambda x: x != '', concorrentes_unique))\n",
    "    \n",
    "    areas['Status'] = areas['Status'].fillna('')\n",
    "    areas['Concorrente_contratante'] = areas['Concorrente_contratante'].fillna('')\n",
    "    areas['Possui_topografia'] = areas['Possui_topografia'].fillna('')\n",
    "\n",
    "    \n",
    "    areas['Possui_topografia'] = areas.apply(lambda x: \n",
    "    (2 if x['Possui_topografia'] == 'SEM TOPOGRAFIA' and x['Concorrente_contratante'] != '' \n",
    "     else 1 if x['Possui_topografia'] == 'SEM TOPOGRAFIA' and x['Status']!=''\n",
    "     else np.nan), axis=1)\n",
    "    # garante que concorremtes nao tem status\n",
    "    areas.loc[areas['Concorrente_contratante']!='', 'Status'] = ''\n",
    "\n",
    "    # Preencher as colunas de status com 0 para os valores correspondentes\n",
    "    for status in status_unique:\n",
    "        areas.loc[:,status] = areas['Status'].apply(lambda x: 0 if x == status else np.nan)\n",
    "    concorrentes_unique = areas['Concorrente_contratante'].unique().tolist()\n",
    "    # Preencher as colunas de status com 'SIM' para os valores correspondentes\n",
    "    for concorrente in concorrentes_unique:\n",
    "        if(concorrente!=''):\n",
    "            areas.loc[:,concorrente] = areas['Concorrente_contratante'].apply(lambda x: 1 if x == concorrente  else np.nan)\n",
    "    areas['CONCORRENTES'] = areas['Concorrente_contratante'].apply(lambda x: 0 if x != '' else '')\n",
    "    \n",
    "    #display(areas)\n",
    "    \n",
    "    areas=areas.rename(columns={'SHAPE': 'Coordenadas'})\n",
    "    areas=areas.rename(columns={'area_code': '# Área'})\n",
    "    areas=areas.rename(columns={'Possui_topografia': 'SEM TOPOGRAFIA'})\n",
    "    #areas=areas.rename(columns={'Concorrente_contratante': 'CONCORRENTES'})\n",
    "    areas['SEM TOPOGRAFIA'] = areas['SEM TOPOGRAFIA'].fillna('')\n",
    "\n",
    "    \n",
    "    return areas"
   ]
  },
  {
   "cell_type": "code",
   "execution_count": null,
   "id": "9b18803f",
   "metadata": {
    "execution": {
     "iopub.execute_input": "2023-08-24T13:33:52.693326Z",
     "iopub.status.busy": "2023-08-24T13:33:52.692381Z",
     "iopub.status.idle": "2023-08-24T13:33:52.697313Z",
     "shell.execute_reply": "2023-08-24T13:33:52.696655Z"
    },
    "papermill": {
     "duration": 0.014486,
     "end_time": "2023-08-24T13:33:52.698891",
     "exception": false,
     "start_time": "2023-08-24T13:33:52.684405",
     "status": "completed"
    },
    "tags": []
   },
   "outputs": [],
   "source": [
    "# Função para substituir <NA> por um valor legível\n",
    "def replace_na(value):\n",
    "    if pd.api.types.is_string_dtype(value):\n",
    "        return value\n",
    "    elif pd.isna(value):\n",
    "        return ''\n",
    "    else:\n",
    "        return value\n",
    "\n",
    "# Aplica a função nas colunas relevantes\n"
   ]
  },
  {
   "cell_type": "code",
   "execution_count": null,
   "id": "3e08b7f6",
   "metadata": {
    "execution": {
     "iopub.execute_input": "2023-08-24T13:33:52.713205Z",
     "iopub.status.busy": "2023-08-24T13:33:52.712737Z",
     "iopub.status.idle": "2023-08-24T13:34:05.145796Z",
     "shell.execute_reply": "2023-08-24T13:34:05.144949Z"
    },
    "papermill": {
     "duration": 12.442333,
     "end_time": "2023-08-24T13:34:05.147581",
     "exception": false,
     "start_time": "2023-08-24T13:33:52.705248",
     "status": "completed"
    },
    "scrolled": true,
    "tags": []
   },
   "outputs": [],
   "source": [
    "import numpy as np\n",
    "import time\n",
    "\n",
    "#Retorna o dicionario contendo as infos de todos os layers\n",
    "for projeto in projetos:\n",
    "    print(projeto)\n",
    "    dict_layers=retorna_df_areas_projetos([projeto])\n",
    "    areas=dict_layers[projeto]['Areas']['sdf']\n",
    "    if(projeto=='SGE'):areas = areas[areas['Status'] != 'Sem mapeamento']\n",
    "    if(projeto=='SAS'):\n",
    "        areas['Status'].replace(' ', 'Áreas CTG', inplace=True)\n",
    "    #print(areas[areas['area_code']=='PROP-SAS-0065']['Status'].tolist())\n",
    "    areas=reproject_sdf(areas,4326)\n",
    "    areas = areas.reindex(columns=['area_code'] + [col for col in areas.columns if col != 'area_code'])\n",
    "    areas['Matricula'] = areas['Matricula'].fillna('')  # Preencher valores ausentes com uma string vazia\n",
    "    areas['Contrato'] = areas['Contrato'].fillna('')\n",
    "    areas = areas.applymap(lambda x: replace_na(x))\n",
    "\n",
    "    path_kmz='/arcgis/home/Bases_kmz_atualizadas'\n",
    "    path_kmz=os.path.join(path_kmz, '_'+ projeto+ \"_\" + time.strftime(\"%y_%m_%d\") + \".kmz\") if tipo=='Status GPD' else os.path.join(path_kmz, '_'+projeto + \".kmz\")\n",
    "    areas=organiza_dados(areas)\n",
    "    cria_kmz(areas,projeto,path_kmz)\n",
    "    "
   ]
  },
  {
   "cell_type": "code",
   "execution_count": null,
   "id": "c9a455bd",
   "metadata": {
    "execution": {
     "iopub.execute_input": "2023-08-24T13:34:05.163485Z",
     "iopub.status.busy": "2023-08-24T13:34:05.162995Z",
     "iopub.status.idle": "2023-08-24T13:34:17.561541Z",
     "shell.execute_reply": "2023-08-24T13:34:17.560766Z"
    },
    "papermill": {
     "duration": 12.408757,
     "end_time": "2023-08-24T13:34:17.563280",
     "exception": false,
     "start_time": "2023-08-24T13:34:05.154523",
     "status": "completed"
    },
    "tags": []
   },
   "outputs": [],
   "source": [
    "if(gera_shp):\n",
    "    for projeto in projetos:\n",
    "        dict_layers=retorna_df_areas_projetos([projeto])\n",
    "        areas=dict_layers[projeto]['Areas']['sdf']\n",
    "        areas=reproject_sdf(areas,4326)\n",
    "        path=os.path.join('/arcgis/home/BASES',projeto+'.shp')\n",
    "        areas = areas.reindex(columns=['area_code'] + [col for col in areas.columns if col != 'area_code'])\n",
    "        areas['Matricula'] = areas['Matricula'].fillna('')  # Preencher valores ausentes com uma string vazia\n",
    "        areas['Contrato'] = areas['Contrato'].fillna('')\n",
    "        areas['Status']= areas['Status'].fillna('')\n",
    "        areas = areas.applymap(lambda x: replace_na(x))\n",
    "        areas_shp=areas[['area_code','Proprietario_principal','Imovel','Status','Matricula','ID_Creator','ID_Editor','Contrato',\"SHAPE\"]]\n",
    "        areas_shp.spatial.to_featureclass(location=path , overwrite=True);\n",
    "        print(path)"
   ]
  }
 ],
 "metadata": {
  "celltoolbar": "Tags",
  "esriNotebookRuntime": {
   "notebookRuntimeName": "ArcGIS Notebook Python 3 Standard",
   "notebookRuntimeVersion": "8.0"
  },
  "kernelspec": {
   "display_name": "Python 3 (ipykernel)",
   "language": "python",
   "name": "python3"
  },
  "language_info": {
   "codemirror_mode": {
    "name": "ipython",
    "version": 3
   },
   "file_extension": ".py",
   "mimetype": "text/x-python",
   "name": "python",
   "nbconvert_exporter": "python",
   "pygments_lexer": "ipython3",
   "version": "3.9.16"
  },
  "papermill": {
   "default_parameters": {},
   "duration": 40.507668,
   "end_time": "2023-08-24T13:34:20.516933",
   "environment_variables": {},
   "exception": null,
   "input_path": "/arcgis/home/.tasks/33e7e708a2d846f58821069983760553/8db8ce6f647245dcbe09feb8d143d98e.ipynb",
   "output_path": "/arcgis/home/.tasks/33e7e708a2d846f58821069983760553/output.ipynb",
   "start_time": "2023-08-24T13:33:40.009265",
   "version": "2.3.4"
  }
 },
 "nbformat": 4,
 "nbformat_minor": 5
}
