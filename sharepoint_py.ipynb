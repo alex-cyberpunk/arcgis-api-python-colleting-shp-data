{
 "cells": [
  {
   "cell_type": "markdown",
   "id": "07096dc6",
   "metadata": {
    "papermill": {
     "duration": 0.010048,
     "end_time": "2023-08-24T13:38:41.945957",
     "exception": false,
     "start_time": "2023-08-24T13:38:41.935909",
     "status": "completed"
    },
    "tags": []
   },
   "source": [
    "## Welcome to your notebook.\n"
   ]
  },
  {
   "cell_type": "markdown",
   "id": "1870e01a",
   "metadata": {
    "papermill": {
     "duration": 0.006374,
     "end_time": "2023-08-24T13:38:41.958952",
     "exception": false,
     "start_time": "2023-08-24T13:38:41.952578",
     "status": "completed"
    },
    "tags": []
   },
   "source": [
    "#### Run this cell to connect to your GIS and get started:"
   ]
  },
  {
   "cell_type": "code",
   "execution_count": null,
   "id": "d2efe711",
   "metadata": {
    "execution": {
     "iopub.execute_input": "2023-08-24T13:38:41.973243Z",
     "iopub.status.busy": "2023-08-24T13:38:41.972496Z",
     "iopub.status.idle": "2023-08-24T13:38:41.980204Z",
     "shell.execute_reply": "2023-08-24T13:38:41.979559Z"
    },
    "papermill": {
     "duration": 0.016847,
     "end_time": "2023-08-24T13:38:41.981845",
     "exception": false,
     "start_time": "2023-08-24T13:38:41.964998",
     "status": "completed"
    },
    "tags": []
   },
   "outputs": [],
   "source": [
    "action_sharepoint='Download_coleta'\n",
    "action_sharepoint='Upload_items'"
   ]
  },
  {
   "cell_type": "code",
   "execution_count": null,
   "id": "bec6d746",
   "metadata": {
    "execution": {
     "iopub.execute_input": "2023-08-24T13:38:41.996324Z",
     "iopub.status.busy": "2023-08-24T13:38:41.995485Z",
     "iopub.status.idle": "2023-08-24T13:38:41.999445Z",
     "shell.execute_reply": "2023-08-24T13:38:41.998857Z"
    },
    "papermill": {
     "duration": 0.012867,
     "end_time": "2023-08-24T13:38:42.000877",
     "exception": false,
     "start_time": "2023-08-24T13:38:41.988010",
     "status": "completed"
    },
    "tags": []
   },
   "outputs": [],
   "source": [
    "pasta_sharepoint='Coleta'\n",
    "delete_file=False"
   ]
  },
  {
   "cell_type": "code",
   "execution_count": null,
   "id": "338c7638",
   "metadata": {
    "execution": {
     "iopub.execute_input": "2023-08-24T13:38:42.014590Z",
     "iopub.status.busy": "2023-08-24T13:38:42.014013Z",
     "iopub.status.idle": "2023-08-24T13:38:42.017780Z",
     "shell.execute_reply": "2023-08-24T13:38:42.017080Z"
    },
    "papermill": {
     "duration": 0.012374,
     "end_time": "2023-08-24T13:38:42.019244",
     "exception": false,
     "start_time": "2023-08-24T13:38:42.006870",
     "status": "completed"
    },
    "tags": []
   },
   "outputs": [],
   "source": [
    "pasta_sharepoint='Fundiario'\n",
    "delete_file=False#True"
   ]
  },
  {
   "cell_type": "code",
   "execution_count": null,
   "id": "18fce495",
   "metadata": {
    "execution": {
     "iopub.execute_input": "2023-08-24T13:38:42.034227Z",
     "iopub.status.busy": "2023-08-24T13:38:42.033389Z",
     "iopub.status.idle": "2023-08-24T13:38:43.787661Z",
     "shell.execute_reply": "2023-08-24T13:38:43.786549Z"
    },
    "papermill": {
     "duration": 1.763567,
     "end_time": "2023-08-24T13:38:43.789603",
     "exception": false,
     "start_time": "2023-08-24T13:38:42.026036",
     "status": "completed"
    },
    "tags": [
     "parameters"
    ]
   },
   "outputs": [],
   "source": [
    "from arcgis.gis import GIS\n",
    "gis = GIS(\"home\")"
   ]
  },
  {
   "cell_type": "markdown",
   "id": "299111b8",
   "metadata": {
    "papermill": {
     "duration": 0.006134,
     "end_time": "2023-08-24T13:38:43.822475",
     "exception": false,
     "start_time": "2023-08-24T13:38:43.816341",
     "status": "completed"
    },
    "tags": []
   },
   "source": [
    "#### Now you are ready to start!"
   ]
  },
  {
   "cell_type": "code",
   "execution_count": null,
   "id": "ed5f123a",
   "metadata": {
    "execution": {
     "iopub.execute_input": "2023-08-24T13:38:43.836606Z",
     "iopub.status.busy": "2023-08-24T13:38:43.835929Z",
     "iopub.status.idle": "2023-08-24T13:38:44.042881Z",
     "shell.execute_reply": "2023-08-24T13:38:44.042009Z"
    },
    "papermill": {
     "duration": 0.216616,
     "end_time": "2023-08-24T13:38:44.045017",
     "exception": false,
     "start_time": "2023-08-24T13:38:43.828401",
     "status": "completed"
    },
    "tags": []
   },
   "outputs": [],
   "source": [
    "import csv\n",
    "SECRET_CSV_ITEM_ID = ''\n",
    "def get_secrets(gis=gis,\n",
    "                secret_csv_item_id=SECRET_CSV_ITEM_ID):\n",
    "    \"\"\"Returns the secrets.csv file as a dict of secret_key : secret_value\"\"\"\n",
    "    item = gis.content.get(secret_csv_item_id)\n",
    "    with open(item.download(), 'r') as local_item_file:\n",
    "        reader = csv.DictReader(local_item_file)\n",
    "        return {rows['secret_key']: rows['secret_value'] for rows in reader}\n",
    "secrets = get_secrets()"
   ]
  },
  {
   "cell_type": "code",
   "execution_count": null,
   "id": "a725f212",
   "metadata": {
    "execution": {
     "iopub.execute_input": "2023-08-24T13:38:44.061429Z",
     "iopub.status.busy": "2023-08-24T13:38:44.060927Z",
     "iopub.status.idle": "2023-08-24T13:38:47.839445Z",
     "shell.execute_reply": "2023-08-24T13:38:47.838689Z"
    },
    "papermill": {
     "duration": 3.788231,
     "end_time": "2023-08-24T13:38:47.841155",
     "exception": false,
     "start_time": "2023-08-24T13:38:44.052924",
     "status": "completed"
    },
    "tags": []
   },
   "outputs": [],
   "source": [
    "import sys\n",
    "sys.path.insert(0, \"/arcgis/home/library\")\n",
    "from office365.runtime.auth.authentication_context import AuthenticationContext\n",
    "from office365.runtime.auth.client_credential import ClientCredential\n",
    "from office365.sharepoint.client_context import ClientContext\n",
    "from office365.sharepoint.files.file import File\n",
    "from office365.sharepoint.client_context import ClientContext\n",
    "from office365.sharepoint.lists.list import List\n",
    "import os\n",
    "import time\n",
    "sharepoint_user = 'alex.matias@pecenergia.com.br'\n",
    "sharepoint_password=secrets[\"alex.matias@pecenergia.com.br\"]\n",
    "if(pasta_sharepoint=='Fundiario'):sharepoint_base_url = ''#site fundiario\n",
    "elif(pasta_sharepoint=='Coleta'):sharepoint_base_url = ''#site fundiario\n",
    "# Autenticar e obter a referência da lista de documentos\n",
    "ctx = ClientContext(sharepoint_base_url).with_user_credentials(sharepoint_user, sharepoint_password)\n",
    "auth = AuthenticationContext(sharepoint_base_url) \n",
    "auth.acquire_token_for_user(sharepoint_user, sharepoint_password)\n",
    "ctx = ClientContext(sharepoint_base_url, auth)\n",
    "web = ctx.web\n",
    "ctx.load(web)\n",
    "ctx.execute_query()\n",
    "print('Conectado ao SharePoint: ',web.properties['Title'])"
   ]
  },
  {
   "cell_type": "code",
   "execution_count": null,
   "id": "40531dd3",
   "metadata": {
    "execution": {
     "iopub.execute_input": "2023-08-24T13:38:47.856788Z",
     "iopub.status.busy": "2023-08-24T13:38:47.856292Z",
     "iopub.status.idle": "2023-08-24T13:38:47.864036Z",
     "shell.execute_reply": "2023-08-24T13:38:47.863192Z"
    },
    "papermill": {
     "duration": 0.017753,
     "end_time": "2023-08-24T13:38:47.865947",
     "exception": false,
     "start_time": "2023-08-24T13:38:47.848194",
     "status": "completed"
    },
    "tags": []
   },
   "outputs": [],
   "source": [
    "import os\n",
    "\n",
    "def folder_details(ctx, folder_in_sharepoint):  \n",
    "    folder = ctx.web.get_folder_by_server_relative_url(folder_in_sharepoint)\n",
    "    fold_names = []  \n",
    "    sub_folders = folder.folders   \n",
    "    ctx.load(sub_folders)  \n",
    "    ctx.execute_query()\n",
    "    #pega o nome dos arquivos dentro da pasta  \n",
    "    for s_folder in sub_folders:\n",
    "        fold_names.append(s_folder.properties[\"Name\"]) \n",
    "    return fold_names\n",
    "\n",
    "def files_in_folder(ctx,folder):\n",
    "    folder = ctx.web.get_folder_by_server_relative_url(folder)  \n",
    "    files = folder.files\n",
    "    ctx.load(files)  \n",
    "    ctx.execute_query()\n",
    "    #pega o nome dos arquivos dentro da pasta  \n",
    "    for file in files:\n",
    "        if('.xlsm' in  file.properties[\"Name\"] and len(file.properties[\"Name\"])==8):return file.properties[\"Name\"] \n",
    "    return ''\n",
    "def return_pastas_coletas(ctx):\n",
    "    pasta_coleta=''#site coleta\n",
    "    folder_list = folder_details(ctx,pasta_coleta)\n",
    "    return folder_list\n",
    "if(action_sharepoint=='Download_coleta'):\n",
    "    folder_list=return_pastas_coletas(ctx)\n",
    "    folder_path='/arcgis/home/Coleta/'\n",
    "    for folder in folder_list:\n",
    "        file_name=files_in_folder(ctx,'' + '/' + folder)#site coleta\n",
    "        if(file_name!=''):\n",
    "            folder_GPD='/' + '/' + folder + '/' + file_name\n",
    "            with open(os.path.join(folder_path,file_name), \"wb\") as local_file:\n",
    "                file = ctx.web.get_file_by_server_relative_url(folder_GPD)\n",
    "                file.download(local_file)\n",
    "                ctx.execute_query()"
   ]
  },
  {
   "cell_type": "code",
   "execution_count": null,
   "id": "14e0dc77",
   "metadata": {
    "execution": {
     "iopub.execute_input": "2023-08-24T13:38:47.880939Z",
     "iopub.status.busy": "2023-08-24T13:38:47.880188Z",
     "iopub.status.idle": "2023-08-24T13:39:36.260643Z",
     "shell.execute_reply": "2023-08-24T13:39:36.259833Z"
    },
    "papermill": {
     "duration": 48.390258,
     "end_time": "2023-08-24T13:39:36.262702",
     "exception": false,
     "start_time": "2023-08-24T13:38:47.872444",
     "status": "completed"
    },
    "tags": []
   },
   "outputs": [],
   "source": [
    "def upload_file(file_path, file_name, tipo,folder_list_coleta,pasta_sharepoint):\n",
    "    folder_in_sharepoint=[]\n",
    "    if(tipo=='Mod_GPD'):\n",
    "        pasta=[item for item in folder_list_coleta if 'Mod' in item][0]\n",
    "        if(pasta_sharepoint=='Fundiario'):folder_in_sharepoint=['']#pasta no fundiario\n",
    "    elif(tipo=='Bases_kmz_atualizadas'):\n",
    "        projeto=file_name[1:4].upper()\n",
    "        if(pasta_sharepoint=='Fundiario'):folder_in_sharepoint=['']#pasta no fundiario\n",
    "    elif(tipo=='BASES'):\n",
    "        projeto=file_name[:3].upper()\n",
    "        if(pasta_sharepoint=='Fundiario'):folder_in_sharepoint=['']#pasta no fundiario\n",
    "    if(tipo=='Bases_kmz_atualizadas' or tipo=='BASES'):\n",
    "        pasta=next((item for item in folder_list_coleta if item[:3].upper() == projeto), None)               \n",
    "    if(pasta_sharepoint=='Coleta'):folder_in_sharepoint.append('/sites/GPD/FundirioComercial/'+pasta)\n",
    "    \n",
    "    # Ler o conteúdo do arquivo em um objeto bytes\n",
    "    with open(os.path.join(file_path,file_name), 'rb') as f:\n",
    "        file_content = f.read()\n",
    "    name = os.path.basename(file_name)\n",
    "    if(tipo=='Mod_GPD'):name = os.path.basename(time.strftime(\"%y_%m_%d\")+'_'+file_name)\n",
    "    for folder_share in folder_in_sharepoint:\n",
    "        target_folder = ctx.web.get_folder_by_server_relative_url(folder_share)\n",
    "        target_file = target_folder.upload_file(name, file_content).execute_query()\n",
    "        print(\"File has been uploaded to url: {0}\".format(target_file.serverRelativeUrl))\n",
    "\n",
    "def delete_file(file_path, file_name, tipo):\n",
    "    if(tipo=='BASES'):folder_in_sharepoint=['']#site no Fundiario e coletas\n",
    "    else:folder_in_sharepoint = [''+tipo+'/']#site no Fundiario e coletas\n",
    "    # Ler o conteúdo do arquivo em um objeto bytes\n",
    "    for folder_share in folder_in_sharepoint:\n",
    "        file_to_delete = ctx.web.get_folder_by_server_relative_url(folder_share+file_name)    \n",
    "        file_to_delete.delete_object()\n",
    "        ctx.execute_query()\n",
    "        print(\"File has been deleted to url: {0}\".format(file_to_delete.serverRelativeUrl))\n",
    "\n",
    "if(action_sharepoint=='Upload_items'):\n",
    "    caminho = '/arcgis/home'\n",
    "    folder_list_coleta=return_pastas_coletas(ctx)\n",
    "    for root, dirs, files in os.walk(caminho):\n",
    "        for file in files:\n",
    "            if('BASES'in root or 'Bases_kmz_atualizadas' in root or file=='modificacoes na base.xlsm'):\n",
    "                if('Bases_kmz_atualizadas'in root):tipo='Bases_kmz_atualizadas'\n",
    "                elif('BASES' in root):tipo='BASES'   \n",
    "                #upload_file(root,file, tipo,folder_list_coleta)\n",
    "                #if('BASES' not in root and file!='modificacoes na base.xlsm' ):delete_file(root, file, tipo)\n",
    "                elif(file=='modificacoes na base.xlsm'):tipo='Mod_GPD'\n",
    "                if(not(tipo=='Mod_GPD' and pasta_sharepoint=='Fundiario')):upload_file(root,file, tipo,folder_list_coleta,pasta_sharepoint)\n",
    "                if(delete_file and file!='modificacoes na base.xlsm'):\n",
    "                    print(os.path.join(root, file))\n",
    "                    #os.remove(os.path.join(root, file))"
   ]
  },
  {
   "cell_type": "markdown",
   "id": "06d04e8d",
   "metadata": {
    "papermill": {
     "duration": 0.008021,
     "end_time": "2023-08-24T13:39:36.279501",
     "exception": false,
     "start_time": "2023-08-24T13:39:36.271480",
     "status": "completed"
    },
    "tags": []
   },
   "source": [
    "#### Baixa os anexos para a tabela de solicitacoes"
   ]
  },
  {
   "cell_type": "code",
   "execution_count": null,
   "id": "0aaf1bfa",
   "metadata": {
    "execution": {
     "iopub.execute_input": "2023-08-24T13:39:36.296714Z",
     "iopub.status.busy": "2023-08-24T13:39:36.296126Z",
     "iopub.status.idle": "2023-08-24T13:39:36.301592Z",
     "shell.execute_reply": "2023-08-24T13:39:36.300814Z"
    },
    "papermill": {
     "duration": 0.016107,
     "end_time": "2023-08-24T13:39:36.303121",
     "exception": false,
     "start_time": "2023-08-24T13:39:36.287014",
     "status": "completed"
    },
    "tags": []
   },
   "outputs": [],
   "source": [
    "Autores={97:'Bruno Sérgio Andrade Paiva',110:'Alex Matias',56:'Diógenes Baleeiro'}\n",
    "\n",
    "def retorna_mes():\n",
    "    from datetime import datetime\n",
    "    currentMonth = datetime.now().month\n",
    "    currentYear= datetime.now().year\n",
    "    x=[]\n",
    "    for i in range(1,12):x.append(i)\n",
    "    y=['jan','fev','mar','abr','mai','jun','jul','ago','set','out','nov','dez']\n",
    "    for i in range(len(x)):\n",
    "        if(currentMonth==x[i]):mesAno=y[i]\n",
    "    return mesAno\n",
    "\n",
    "mes=retorna_mes()"
   ]
  },
  {
   "cell_type": "code",
   "execution_count": null,
   "id": "f340dc08",
   "metadata": {
    "execution": {
     "iopub.execute_input": "2023-08-24T13:39:36.322651Z",
     "iopub.status.busy": "2023-08-24T13:39:36.322066Z",
     "iopub.status.idle": "2023-08-24T13:39:36.327215Z",
     "shell.execute_reply": "2023-08-24T13:39:36.326417Z"
    },
    "papermill": {
     "duration": 0.015893,
     "end_time": "2023-08-24T13:39:36.328746",
     "exception": false,
     "start_time": "2023-08-24T13:39:36.312853",
     "status": "completed"
    },
    "tags": []
   },
   "outputs": [],
   "source": [
    "def retorna_df_areas_projetos(projetos):\n",
    "    dict_layer = {}\n",
    "    for projeto in projetos:\n",
    "        map_projeto = gis.content.search('title:' + projeto, 'Feature Layer')\n",
    "        Projeto_item = map_projeto[retorna_posicao(map_projeto, projeto)]\n",
    "        Projeto_layers = Projeto_item.layers\n",
    "        Projeto_tables = Projeto_item.tables\n",
    "        dict_layer[projeto]={}\n",
    "        for layer in Projeto_tables:\n",
    "            lyr_fset = layer.query()\n",
    "            lyr_sdf = lyr_fset.sdf\n",
    "            dict_layer[projeto][layer.properties.name]={'sublayer': layer, 'sdf': lyr_sdf}\n",
    "    return dict_layer\n"
   ]
  },
  {
   "cell_type": "code",
   "execution_count": null,
   "id": "81e844bb",
   "metadata": {
    "execution": {
     "iopub.execute_input": "2023-08-24T13:39:36.346063Z",
     "iopub.status.busy": "2023-08-24T13:39:36.345405Z",
     "iopub.status.idle": "2023-08-24T13:39:36.349960Z",
     "shell.execute_reply": "2023-08-24T13:39:36.349215Z"
    },
    "papermill": {
     "duration": 0.015144,
     "end_time": "2023-08-24T13:39:36.351570",
     "exception": false,
     "start_time": "2023-08-24T13:39:36.336426",
     "status": "completed"
    },
    "tags": []
   },
   "outputs": [],
   "source": [
    "def retorna_posicao(lista,elemento):\n",
    "    \"\"\"\n",
    "    Retorna a posicao de um elemento em uma lista de objetos\n",
    "    \"\"\"\n",
    "    for i in range(len(lista)):\n",
    "        mapa=str(lista[i])\n",
    "        split=mapa.replace('\"','').replace(' type','').split(':')[1]\n",
    "        if(split==elemento):\n",
    "            return i "
   ]
  },
  {
   "cell_type": "code",
   "execution_count": null,
   "id": "f4fa1169",
   "metadata": {
    "execution": {
     "iopub.execute_input": "2023-08-24T13:39:36.368672Z",
     "iopub.status.busy": "2023-08-24T13:39:36.368153Z",
     "iopub.status.idle": "2023-08-24T13:39:36.423122Z",
     "shell.execute_reply": "2023-08-24T13:39:36.422382Z"
    },
    "papermill": {
     "duration": 0.065984,
     "end_time": "2023-08-24T13:39:36.425216",
     "exception": false,
     "start_time": "2023-08-24T13:39:36.359232",
     "status": "completed"
    },
    "tags": []
   },
   "outputs": [],
   "source": [
    "import shapefile\n",
    "from shapely.geometry import shape\n",
    "\n",
    "def filter_shapefile_latin_1(shapefile_path):\n",
    "    reader = shapefile.Reader(shapefile_path, encoding='latin-1')\n",
    "\n",
    "    filtered_records = []\n",
    "    problematic_strings = []  # Lista para armazenar as strings problemáticas\n",
    "\n",
    "    for shape_record in reader.shapeRecords():\n",
    "        record = shape_record.record\n",
    "        try:\n",
    "            # Tenta criar a geometria a partir do shape_record\n",
    "            geometry = shape(shape_record.shape.__geo_interface__)\n",
    "            filtered_records.append((record, shape_record.shape))  # Armazena o registro e a geometria\n",
    "        except UnicodeDecodeError:\n",
    "            # Armazena a string problemática na lista\n",
    "            problematic_strings.append(str(record))\n",
    "\n",
    "    # Cria um novo shapefile somente com os registros filtrados\n",
    "    writer = shapefile.Writer(shapefile_path[:-4])  # Remove a extensão .shp do caminho\n",
    "    writer.fields = reader.fields[1:]  # Copia os campos do shapefile original, excluindo o campo de exclusão\n",
    "    for record, geom in filtered_records:\n",
    "        writer.record(*record)\n",
    "        writer.shape(geom)\n",
    "\n",
    "    # Fecha o objeto Writer e salva o novo shapefile\n",
    "    writer.close()\n",
    "\n",
    "    # Retorna o vetor com as strings problemáticas\n",
    "    return problematic_strings"
   ]
  },
  {
   "cell_type": "code",
   "execution_count": null,
   "id": "33ec0e8e",
   "metadata": {
    "execution": {
     "iopub.execute_input": "2023-08-24T13:39:36.443548Z",
     "iopub.status.busy": "2023-08-24T13:39:36.442545Z",
     "iopub.status.idle": "2023-08-24T13:39:36.447603Z",
     "shell.execute_reply": "2023-08-24T13:39:36.446946Z"
    },
    "papermill": {
     "duration": 0.015824,
     "end_time": "2023-08-24T13:39:36.449141",
     "exception": false,
     "start_time": "2023-08-24T13:39:36.433317",
     "status": "completed"
    },
    "tags": []
   },
   "outputs": [],
   "source": [
    "import pandas as pd\n",
    "from arcgis.geometry import Polygon, Geometry, Point, Polyline\n",
    "\n",
    "def sdf_from_shp(shapefile_path):\n",
    "    sdf = pd.DataFrame.spatial.from_featureclass(shapefile_path,encoding='iso-8859-1')\n",
    "    return sdf"
   ]
  },
  {
   "cell_type": "code",
   "execution_count": null,
   "id": "002bdef5",
   "metadata": {
    "execution": {
     "iopub.execute_input": "2023-08-24T13:39:36.466249Z",
     "iopub.status.busy": "2023-08-24T13:39:36.465777Z",
     "iopub.status.idle": "2023-08-24T13:39:36.470693Z",
     "shell.execute_reply": "2023-08-24T13:39:36.469938Z"
    },
    "papermill": {
     "duration": 0.015365,
     "end_time": "2023-08-24T13:39:36.472237",
     "exception": false,
     "start_time": "2023-08-24T13:39:36.456872",
     "status": "completed"
    },
    "tags": []
   },
   "outputs": [],
   "source": [
    "def sharepoint_lists_fundiario(ctx,nome_lista):\n",
    "        #verifica os itens nao incluidos na base que estao na lista\n",
    "        \"\"\"\n",
    "        itens incluidos tem seu Title modificado para 'Incluido_na_base(editado_power_automate)' quando estao sem erro\n",
    "        Quando estao com algum Erro de formato nao esperado de anexo , ou seja nao e um arquivo .zip com shapefiles dentro\n",
    "        nomea-se \"Erro1\" e \"Erro2\" para erro nos campos do shapefile\n",
    "        \"\"\"\n",
    "        titulos_esperados=['Incluido_na_base(editado_power_automate)','Erro1','Erro2']\n",
    "        #Retorna a lista do sharepoint\n",
    "        sp_site_lists = ctx.web.lists.get_by_title(nome_lista)\n",
    "        all_items = sp_site_lists.items.paged(1000).get().execute_query()\n",
    "        list_items = [item for item in all_items if item.properties[\"Title\"] not in titulos_esperados]\n",
    "        return list_items"
   ]
  },
  {
   "cell_type": "code",
   "execution_count": null,
   "id": "9fb9d361",
   "metadata": {
    "execution": {
     "iopub.execute_input": "2023-08-24T13:39:36.489544Z",
     "iopub.status.busy": "2023-08-24T13:39:36.489025Z",
     "iopub.status.idle": "2023-08-24T13:39:36.493615Z",
     "shell.execute_reply": "2023-08-24T13:39:36.492855Z"
    },
    "papermill": {
     "duration": 0.015147,
     "end_time": "2023-08-24T13:39:36.495079",
     "exception": false,
     "start_time": "2023-08-24T13:39:36.479932",
     "status": "completed"
    },
    "tags": []
   },
   "outputs": [],
   "source": [
    "def erro1(list_item,erro):\n",
    "    list_item.set_property('Title', \"Erro1\")\n",
    "    dict_erros={1:'Erro de leitura de arquivo pode ser que nao e um arquivo .zip ou nao contem os arquivos necessarios para o .shp ou seja .shp, .shx e .dbf',\n",
    "            2:'O pedido deve conter um anexo e apenas um anexo',\n",
    "            3:'Shapefile tem de estar no padrao utf-8 , geralmente e causado por conter acentos ou cedilha nos campos de coluna ou campos de escrita ou esta fora do modelo'}\n",
    "    string_erros=dict_erros[erro]\n",
    "    list_item.set_property('Tipodeerro', string_erros)\n",
    "    print(list_item)\n",
    "    list_item.update()\n",
    "    ctx.execute_query()"
   ]
  },
  {
   "cell_type": "code",
   "execution_count": null,
   "id": "8ddd7300",
   "metadata": {
    "execution": {
     "iopub.execute_input": "2023-08-24T13:39:36.512161Z",
     "iopub.status.busy": "2023-08-24T13:39:36.511749Z",
     "iopub.status.idle": "2023-08-24T13:39:36.517476Z",
     "shell.execute_reply": "2023-08-24T13:39:36.516663Z"
    },
    "papermill": {
     "duration": 0.016295,
     "end_time": "2023-08-24T13:39:36.518974",
     "exception": false,
     "start_time": "2023-08-24T13:39:36.502679",
     "status": "completed"
    },
    "tags": []
   },
   "outputs": [],
   "source": [
    "import zipfile\n",
    "def zipar_arquivos(nome_arquivo_zip,pasta):\n",
    "    arquivos_zip = [arquivo for arquivo in os.listdir(pasta) if arquivo.endswith((\".shp\", \".shx\", \".prj\",\"dbf\",\"cpg\"))]\n",
    "    \n",
    "    with zipfile.ZipFile(os.path.join(pasta, nome_arquivo_zip), 'w', zipfile.ZIP_DEFLATED) as zipf:\n",
    "        [zipf.write(os.path.join(pasta, arquivo), os.path.relpath(os.path.join(pasta, arquivo), pasta)) for arquivo in arquivos_zip]\n",
    "    \n",
    "    for arquivo in arquivos_zip:\n",
    "        caminho_completo = os.path.join(pasta, arquivo)\n",
    "        os.remove(caminho_completo)\n",
    "    \n",
    "    return os.path.join(pasta, nome_arquivo_zip)"
   ]
  },
  {
   "cell_type": "code",
   "execution_count": null,
   "id": "136ab408",
   "metadata": {
    "execution": {
     "iopub.execute_input": "2023-08-24T13:39:36.536718Z",
     "iopub.status.busy": "2023-08-24T13:39:36.536056Z",
     "iopub.status.idle": "2023-08-24T13:39:36.542063Z",
     "shell.execute_reply": "2023-08-24T13:39:36.541302Z"
    },
    "papermill": {
     "duration": 0.016869,
     "end_time": "2023-08-24T13:39:36.543570",
     "exception": false,
     "start_time": "2023-08-24T13:39:36.526701",
     "status": "completed"
    },
    "tags": []
   },
   "outputs": [],
   "source": [
    "# CONSERTAR COM OS MOLDES CORRETOS    \n",
    "def verifica_campos_shp(shapefile_path,tipo):\n",
    "    #SO FUNCIONA PRO MOLDE SEM ACENTO\n",
    "    print(shapefile_path)\n",
    "    try :\n",
    "        sdf = sdf_from_shp(shapefile_path)\n",
    "    except:\n",
    "        strings_com_erro=filter_shapefile_latin_1(shapefile_path)\n",
    "        print(strings_com_erro)\n",
    "        try: sdf = sdf_from_shp(shapefile_path)\n",
    "        except:\n",
    "            print(\"erro na codificacao , nao e latin-1\")\n",
    "            return False\n",
    "    display(sdf)\n",
    "    if(tipo=='Inclusao'):\n",
    "        lista_campos=[\"Status\",\"Proprieta\",\"Matricula\",\"Contrato\",\"Imovel\"]\n",
    "        colunas=[\"Status\",\"Proprieta\"]\n",
    "    if(tipo=='Edicao'):\n",
    "        lista_campos=['area_code']\n",
    "        colunas=['area_code']\n",
    "    if(tipo=='Divisao'):\n",
    "        lista_campos=['area_code',\"Status\",\"Proprieta\",\"Matricula\",\"Contrato\",\"Imovel\"]\n",
    "        colunas=[\"Status\",\"Proprieta\"]\n",
    "    \n",
    "    if set(lista_campos).issubset(set(sdf.columns)):\n",
    "        aceito=True\n",
    "    else:\n",
    "        aceito=False\n",
    "\n",
    "    return aceito"
   ]
  },
  {
   "cell_type": "code",
   "execution_count": null,
   "id": "9cfdf858",
   "metadata": {
    "execution": {
     "iopub.execute_input": "2023-08-24T13:39:36.561032Z",
     "iopub.status.busy": "2023-08-24T13:39:36.560559Z",
     "iopub.status.idle": "2023-08-24T13:39:36.570425Z",
     "shell.execute_reply": "2023-08-24T13:39:36.569773Z"
    },
    "papermill": {
     "duration": 0.020702,
     "end_time": "2023-08-24T13:39:36.571978",
     "exception": false,
     "start_time": "2023-08-24T13:39:36.551276",
     "status": "completed"
    },
    "tags": []
   },
   "outputs": [],
   "source": [
    "def cria_zip_legivel(roots, file_name):\n",
    "    import zipfile\n",
    "    import os\n",
    "    import shutil\n",
    "    # Define o nome do arquivo zip original e do arquivo zip novo\n",
    "    file_name=file_name[:-4]\n",
    "    # Percorre as subpastas da pasta extraída e move os arquivos para a pasta principal\n",
    "    for root, dirs, files in os.walk('/arcgis/home/Nao Incluidos/temp'):\n",
    "        for file in files:\n",
    "            if(not(file.endswith('.zip'))):\n",
    "                os.rename(os.path.join(root, file), os.path.join(root, file_name+file[-4:]))\n",
    "                shutil.move(os.path.join(root, file_name+file[-4:]), os.path.join(roots, file_name+file[-4:]))\n",
    "                \n",
    "    caminho = '/arcgis/home/Nao Incluidos/temp'\n",
    "    for root, dirs, files in os.walk(caminho):\n",
    "            for dir in dirs:\n",
    "                shutil.rmtree(os.path.join(root, dir))\n",
    "def verificar_arquivo_shapefile_zip(nome_arquivo_zip):\n",
    "    import zipfile\n",
    "\n",
    "    # Lista de extensões esperadas\n",
    "    extensoes_esperadas = ['shp', 'shx', 'dbf']  # Colocar extensao sem '.'\n",
    "\n",
    "    # Dicionário para contar o número de ocorrências de cada extensão\n",
    "    ocorrencias_extensoes = {extensao: 0 for extensao in extensoes_esperadas}\n",
    "\n",
    "    # Função para verificar se um nome de arquivo corresponde a uma extensão esperada\n",
    "    def verificar_extensao(nome_arquivo):\n",
    "        extensao = nome_arquivo.split('.')[-1].lower()\n",
    "        return extensao in extensoes_esperadas\n",
    "\n",
    "    # Função para percorrer todas as pastas e subpastas dentro do arquivo zip\n",
    "    def percorrer_zip(zip, caminho='', ocorrencias_extensoes=None):\n",
    "        if ocorrencias_extensoes is None:\n",
    "            ocorrencias_extensoes = {}\n",
    "        for nome_arquivo in zip.namelist():\n",
    "            partes_caminho = nome_arquivo.split('/')\n",
    "            if nome_arquivo.startswith(caminho) and verificar_extensao(nome_arquivo):\n",
    "                extensao = nome_arquivo.split('.')[-1].lower()\n",
    "                ocorrencias_extensoes[extensao] = ocorrencias_extensoes.get(extensao, 0) + 1\n",
    "        return ocorrencias_extensoes\n",
    "\n",
    "    # Abrir o arquivo zip\n",
    "    with zipfile.ZipFile(nome_arquivo_zip, 'r') as zip:\n",
    "        # Percorrer todas as pastas e subpastas dentro do arquivo zip\n",
    "        ocorrencias_extensoes = percorrer_zip(zip, ocorrencias_extensoes=ocorrencias_extensoes)\n",
    "    \n",
    "    print(ocorrencias_extensoes)\n",
    "\n",
    "    # Verificar se cada extensão ocorreu apenas uma vez\n",
    "    for extensao, ocorrencias in ocorrencias_extensoes.items():\n",
    "        if ocorrencias != 1:\n",
    "            return False\n",
    "\n",
    "    return True\n",
    "\n",
    "def error_report(arquivo_zip, tipo):\n",
    "    if verificar_arquivo_shapefile_zip(arquivo_zip):\n",
    "        print(\"É um arquivo zip\")\n",
    "        return True\n",
    "    else:\n",
    "        return False\n"
   ]
  },
  {
   "cell_type": "code",
   "execution_count": null,
   "id": "f30edef6",
   "metadata": {
    "execution": {
     "iopub.execute_input": "2023-08-24T13:39:36.589220Z",
     "iopub.status.busy": "2023-08-24T13:39:36.588852Z",
     "iopub.status.idle": "2023-08-24T13:39:36.596920Z",
     "shell.execute_reply": "2023-08-24T13:39:36.596129Z"
    },
    "papermill": {
     "duration": 0.018709,
     "end_time": "2023-08-24T13:39:36.598421",
     "exception": false,
     "start_time": "2023-08-24T13:39:36.579712",
     "status": "completed"
    },
    "tags": []
   },
   "outputs": [],
   "source": [
    "def download_attachments(ctx, list_item):\n",
    "    # Obter anexos do item da lista\n",
    "    attachments = list_item.attachment_files.get().execute_query()\n",
    "    \n",
    "    dict_item = {\n",
    "            \"Projeto\": list_item.properties['Projeto'],\n",
    "            \"TipodeOperacaonabase\": list_item.properties['TipodeOperacaonabase'],\n",
    "            \"ID_pedido\": list_item.properties[\"Id\"],\n",
    "            \"ID_author\":list_item.properties[\"AuthorId\"],\n",
    "            \"mes\":mes,\n",
    "            \"erro\":[]\n",
    "            }\n",
    "\n",
    "    \n",
    "    #attachments = list_item.attachments\n",
    "    if len(attachments) != 1:\n",
    "        print(\"Arquivo .zip removidos do pedido de operacao na base de ID\", list_item.properties[\"ID\"], \"esta incorreto\") \n",
    "        dict_item[\"erro\"] = 2\n",
    "        return ('erro1', dict_item)\n",
    "\n",
    "    attachment_title = attachments[0].properties[\"FileName\"]\n",
    "    if not attachment_title.endswith(\".zip\"):\n",
    "        dict_item[\"erro\"] = 1\n",
    "        print(\"nao e um arquivo .zip\")\n",
    "        return ('erro1', dict_item)\n",
    "\n",
    "    if list_item.properties[\"Attachments\"]:\n",
    "        for attachment in attachments:\n",
    "            file_name = f\"{dict_item['Projeto']}_{dict_item['TipodeOperacaonabase']}_{dict_item['ID_author']}_{dict_item['ID_pedido']}.zip\"\n",
    "            folder_path = f\"/arcgis/home/Nao Incluidos/{dict_item['TipodeOperacaonabase']}\"\n",
    "            caminho = os.path.join(folder_path, file_name)\n",
    "\n",
    "            with open(caminho, \"wb\") as f:\n",
    "                content = attachment.download(f).execute_query()\n",
    "\n",
    "            if verificar_arquivo_shapefile_zip(caminho):\n",
    "                with zipfile.ZipFile(caminho) as zip_ref:    \n",
    "                    zip_ref.extractall('/arcgis/home/Nao Incluidos/temp')    \n",
    "                cria_zip_legivel(folder_path, file_name)\n",
    "                print(\"Download de anexo com sucesso\")\n",
    "                caminho_shp = os.path.join(folder_path, file_name[:-4] + '.shp')\n",
    "            else : \n",
    "                print(\"nao e arquivo .zip ou nao contem extensoes shapefile dentro\")\n",
    "                dict_item[\"erro\"] = 1\n",
    "                caminho_shp = 'erro1'\n",
    "\n",
    "        os.remove(os.path.join(folder_path, file_name[:-4] + '.zip'))        \n",
    "        return (caminho_shp, dict_item)"
   ]
  },
  {
   "cell_type": "markdown",
   "id": "b50656ed",
   "metadata": {
    "papermill": {
     "duration": 0.009472,
     "end_time": "2023-08-24T13:39:36.615665",
     "exception": false,
     "start_time": "2023-08-24T13:39:36.606193",
     "status": "completed"
    },
    "tags": []
   },
   "source": [
    "#### Adiciona arquivos na table do sharepoint , separando o erro 1 "
   ]
  },
  {
   "cell_type": "code",
   "execution_count": null,
   "id": "9ec01271",
   "metadata": {
    "execution": {
     "iopub.execute_input": "2023-08-24T13:39:36.633055Z",
     "iopub.status.busy": "2023-08-24T13:39:36.632696Z",
     "iopub.status.idle": "2023-08-24T13:39:36.641856Z",
     "shell.execute_reply": "2023-08-24T13:39:36.641190Z"
    },
    "papermill": {
     "duration": 0.02012,
     "end_time": "2023-08-24T13:39:36.643443",
     "exception": false,
     "start_time": "2023-08-24T13:39:36.623323",
     "status": "completed"
    },
    "tags": []
   },
   "outputs": [],
   "source": [
    "from arcgis.geometry import Polygon, Geometry, Point, Polyline\n",
    "from arcgis.features import Feature,FeatureSet\n",
    "\n",
    "def edit_features_sdf(sdf_edits,tipo,layer_projeto,Projeto,actions,path_file):\n",
    "        \"\"\"\n",
    "            No caso das edicoes de Interseccoes e areas aprovadas podem ocorrer de ter mais de um caso para cada prop , \n",
    "            dessa forma para garantir que as edicoes nao deixem features \"a mais\" e necessario primeiro apagar e entao adicionar\n",
    "        \"\"\" \n",
    "        if tipo in actions:\n",
    "            sub_dicionario = actions[tipo]\n",
    "            sublayers = list(sub_dicionario.keys())\n",
    "        if tipo in actions:\n",
    "            for sublayer in sublayers:\n",
    "                if not sdf_edits[sublayer].empty:\n",
    "                    #Monta o feature set para adicionar no arcgis\n",
    "                    #print(layer_projeto[Projeto][sublayer]['sublayer'])\n",
    "                    fields = [i['name'] for i in layer_projeto[Projeto][sublayer]['sublayer'].properties.fields if i['editable']]\n",
    "                    if sublayer == 'Solicitacoes_Topografia' or sublayer =='Areas':\n",
    "                        fields.append('SHAPE')\n",
    "                    if tipo == 'Edicao':\n",
    "                        fields.append('OBJECTID')\n",
    "                    edit_fs_df = pd.DataFrame(columns=fields)\n",
    "                    for col in edit_fs_df.columns:\n",
    "                        if col in sdf_edits[sublayer]:\n",
    "                            edit_fs_df[col] = sdf_edits[sublayer][col].values\n",
    "                        df_dict = edit_fs_df.to_dict('records')\n",
    "                        features = []\n",
    "                        for record in df_dict:\n",
    "                            feature = Feature(attributes=record)\n",
    "                            features.append(feature)\n",
    "                        feature_set = FeatureSet(features)\n",
    "                        \n",
    "                    #aplica as acoes necesserias \n",
    "                    action, arg = actions[tipo][sublayer]\n",
    "                    if action == 'updates':\n",
    "                        result = layer_projeto[Projeto][sublayer]['sublayer'].edit_features(updates=feature_set)\n",
    "                    elif action == 'adds':\n",
    "                        result = layer_projeto[Projeto][sublayer]['sublayer'].edit_features(adds=feature_set)\n",
    "\n",
    "                    print(result)\n",
    "\n",
    "                    if(result):\n",
    "                        if(sublayer=='Sharepoint_files'):upload_attchment(layer_projeto[Projeto][sublayer]['sublayer'],path_file,result['addResults'][0]['objectId'])\n",
    "                        if(tipo=='Edicao'):print(\"features editados com sucesso\")\n",
    "                        if(tipo=='Inclusao'):print(\"features incluidos com sucesso\")"
   ]
  },
  {
   "cell_type": "code",
   "execution_count": null,
   "id": "f85817c6",
   "metadata": {
    "execution": {
     "iopub.execute_input": "2023-08-24T13:39:36.660868Z",
     "iopub.status.busy": "2023-08-24T13:39:36.660464Z",
     "iopub.status.idle": "2023-08-24T13:39:36.664469Z",
     "shell.execute_reply": "2023-08-24T13:39:36.663710Z"
    },
    "papermill": {
     "duration": 0.014658,
     "end_time": "2023-08-24T13:39:36.665963",
     "exception": false,
     "start_time": "2023-08-24T13:39:36.651305",
     "status": "completed"
    },
    "tags": []
   },
   "outputs": [],
   "source": [
    "import os \n",
    "import requests \n",
    "def upload_attchment(url,path_file,objectID):\n",
    "    url.attachments.add(objectID, path_file)"
   ]
  },
  {
   "cell_type": "code",
   "execution_count": null,
   "id": "04833e10",
   "metadata": {
    "execution": {
     "iopub.execute_input": "2023-08-24T13:39:36.683077Z",
     "iopub.status.busy": "2023-08-24T13:39:36.682605Z",
     "iopub.status.idle": "2023-08-24T13:39:36.686579Z",
     "shell.execute_reply": "2023-08-24T13:39:36.685851Z"
    },
    "papermill": {
     "duration": 0.014388,
     "end_time": "2023-08-24T13:39:36.688073",
     "exception": false,
     "start_time": "2023-08-24T13:39:36.673685",
     "status": "completed"
    },
    "tags": []
   },
   "outputs": [],
   "source": [
    "action_item_lista={'Inclusao': {'Sharepoint_files':('adds',False)}}\n",
    "action_item_erro1={'Inclusao': {'Erro1':('adds',False)}}"
   ]
  },
  {
   "cell_type": "code",
   "execution_count": null,
   "id": "c1943369",
   "metadata": {
    "execution": {
     "iopub.execute_input": "2023-08-24T13:39:36.705266Z",
     "iopub.status.busy": "2023-08-24T13:39:36.704731Z",
     "iopub.status.idle": "2023-08-24T13:39:38.354902Z",
     "shell.execute_reply": "2023-08-24T13:39:38.354150Z"
    },
    "papermill": {
     "duration": 1.661344,
     "end_time": "2023-08-24T13:39:38.357019",
     "exception": false,
     "start_time": "2023-08-24T13:39:36.695675",
     "status": "completed"
    },
    "tags": []
   },
   "outputs": [],
   "source": [
    "layer=retorna_df_areas_projetos(['Solicitacoes_topo'])"
   ]
  },
  {
   "cell_type": "code",
   "execution_count": null,
   "id": "76eff5a9",
   "metadata": {
    "execution": {
     "iopub.execute_input": "2023-08-24T13:39:38.375693Z",
     "iopub.status.busy": "2023-08-24T13:39:38.375283Z",
     "iopub.status.idle": "2023-08-24T13:39:39.482401Z",
     "shell.execute_reply": "2023-08-24T13:39:39.481604Z"
    },
    "papermill": {
     "duration": 1.118907,
     "end_time": "2023-08-24T13:39:39.484686",
     "exception": false,
     "start_time": "2023-08-24T13:39:38.365779",
     "status": "completed"
    },
    "tags": []
   },
   "outputs": [],
   "source": [
    "def main():\n",
    "    print('Conectado ao SharePoint: ',web.properties['Title'])\n",
    "    items=sharepoint_lists_fundiario(ctx,'Solicitar Modificacao de base')\n",
    "    exclusoes=pd.DataFrame(columns=[\"ID_pedido\", \"Projeto\",\"Exclusao\"])\n",
    "    for item in items:\n",
    "            print(item.properties[\"ID\"])\n",
    "            (caminho,data)=download_attachments(ctx,item)\n",
    "            \n",
    "            if(caminho!='erro1'):\n",
    "                nome_arquivo = os.path.basename(caminho)\n",
    "                diretorio = os.path.dirname(caminho)\n",
    "                \n",
    "                if(not(verifica_campos_shp(caminho,data[\"TipodeOperacaonabase\"]))):\n",
    "                    print(\"nao aceita\")\n",
    "                    data[\"erro\"]=3\n",
    "                    erro1(item,data[\"erro\"])\n",
    "                    df = pd.DataFrame([data])\n",
    "                    edit_features_sdf({'Erro1':df},'Inclusao',layer,'Solicitacoes_topo',action_item_erro1,caminho)\n",
    "\n",
    "                    \n",
    "                    list_ext=['.dbf','.prj','.shp','.shx','cpg']\n",
    "                    for ext in list_ext:\n",
    "                        path = os.path.join(diretorio, nome_arquivo[:-4]+ext)\n",
    "                        if (os.path.exists(path)):\n",
    "                            os.remove(path)\n",
    "\n",
    "                    print(\"Arquivo .zip removidos do pedido de operacao na base de ID\",item.properties[\"ID\"], \"esta incorreto\")            \n",
    "\n",
    "\n",
    "                else:\n",
    "                    df = pd.DataFrame([data])\n",
    "                    caminho=zipar_arquivos(nome_arquivo[:-4]+'.zip',diretorio)\n",
    "                    edit_features_sdf({'Sharepoint_files':df},'Inclusao',layer,'Solicitacoes_topo',action_item_lista,caminho)\n",
    "                    os.remove(caminho)\n",
    "                    print(\"Arquivo .zip :\",os.path.basename(caminho),\"do pedido de operacao na base de ID\",item.properties[\"ID\"], \"esta correto\") \n",
    "\n",
    "            else:\n",
    "                df = pd.DataFrame([data])\n",
    "                edit_features_sdf({'Erro1':df},'Inclusao',layer,'Solicitacoes_topo',action_item_erro1,caminho)\n",
    "                erro1(item,data[\"erro\"])\n",
    "\n",
    "main()    "
   ]
  },
  {
   "cell_type": "markdown",
   "id": "428701a0",
   "metadata": {
    "papermill": {
     "duration": 0.007851,
     "end_time": "2023-08-24T13:39:39.501222",
     "exception": false,
     "start_time": "2023-08-24T13:39:39.493371",
     "status": "completed"
    },
    "tags": []
   },
   "source": [
    "### Download attachments "
   ]
  },
  {
   "cell_type": "code",
   "execution_count": null,
   "id": "c27d768b",
   "metadata": {
    "execution": {
     "iopub.execute_input": "2023-08-24T13:39:39.518506Z",
     "iopub.status.busy": "2023-08-24T13:39:39.517860Z",
     "iopub.status.idle": "2023-08-24T13:39:40.020206Z",
     "shell.execute_reply": "2023-08-24T13:39:40.019537Z"
    },
    "papermill": {
     "duration": 0.51295,
     "end_time": "2023-08-24T13:39:40.021869",
     "exception": false,
     "start_time": "2023-08-24T13:39:39.508919",
     "status": "completed"
    },
    "tags": []
   },
   "outputs": [],
   "source": [
    "caminho=layer['Solicitacoes_topo']['Sharepoint_files']['sublayer'].attachments.download(oid=6, attachment_id=1)[0]\n",
    "with zipfile.ZipFile(caminho) as zip_ref:    \n",
    "        zip_ref.extractall('/arcgis/home/Nao Incluidos/temp')\n",
    "        nome_arquivo = os.path.basename(caminho)\n",
    "        diretorio = '/arcgis/home/Nao Incluidos/temp'\n",
    "\n",
    "        caminho_shp = os.path.join(diretorio, nome_arquivo[:-4] + '.shp')\n",
    "        sdf=sdf_from_shp(caminho_shp)\n",
    "        display(sdf)\n",
    "        ########### CODIGO DE VERIFICACAO DE BASE\n",
    "        os.remove(caminho_shp)"
   ]
  }
 ],
 "metadata": {
  "celltoolbar": "Tags",
  "esriNotebookRuntime": {
   "notebookRuntimeName": "ArcGIS Notebook Python 3 Standard",
   "notebookRuntimeVersion": "8.0"
  },
  "kernelspec": {
   "display_name": "Python 3 (ipykernel)",
   "language": "python",
   "name": "python3"
  },
  "language_info": {
   "codemirror_mode": {
    "name": "ipython",
    "version": 3
   },
   "file_extension": ".py",
   "mimetype": "text/x-python",
   "name": "python",
   "nbconvert_exporter": "python",
   "pygments_lexer": "ipython3",
   "version": "3.9.16"
  },
  "papermill": {
   "default_parameters": {},
   "duration": 60.534653,
   "end_time": "2023-08-24T13:39:41.177606",
   "environment_variables": {},
   "exception": null,
   "input_path": "/arcgis/home/.tasks/098c8652d55c44848423f9c8ad4e3ef3/b9fa67cb22d44b64b2440af018a5bf9e.ipynb",
   "output_path": "/arcgis/home/.tasks/098c8652d55c44848423f9c8ad4e3ef3/output.ipynb",
   "start_time": "2023-08-24T13:38:40.642953",
   "version": "2.3.4"
  }
 },
 "nbformat": 4,
 "nbformat_minor": 5
}
